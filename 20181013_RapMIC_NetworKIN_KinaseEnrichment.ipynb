{
 "cells": [
  {
   "cell_type": "code",
   "execution_count": 1,
   "metadata": {},
   "outputs": [],
   "source": [
    "# Kinase Enrichment Analysis from NetworKIN Output\n"
   ]
  },
  {
   "cell_type": "code",
   "execution_count": 2,
   "metadata": {},
   "outputs": [
    {
     "data": {
      "text/html": [
       "\n",
       "    <div class=\"bk-root\">\n",
       "        <a href=\"https://bokeh.pydata.org\" target=\"_blank\" class=\"bk-logo bk-logo-small bk-logo-notebook\"></a>\n",
       "        <span id=\"f4bc6c2c-df03-4694-b129-b9718db9e15a\">Loading BokehJS ...</span>\n",
       "    </div>"
      ]
     },
     "metadata": {},
     "output_type": "display_data"
    },
    {
     "data": {
      "application/javascript": [
       "\n",
       "(function(root) {\n",
       "  function now() {\n",
       "    return new Date();\n",
       "  }\n",
       "\n",
       "  var force = true;\n",
       "\n",
       "  if (typeof (root._bokeh_onload_callbacks) === \"undefined\" || force === true) {\n",
       "    root._bokeh_onload_callbacks = [];\n",
       "    root._bokeh_is_loading = undefined;\n",
       "  }\n",
       "\n",
       "  var JS_MIME_TYPE = 'application/javascript';\n",
       "  var HTML_MIME_TYPE = 'text/html';\n",
       "  var EXEC_MIME_TYPE = 'application/vnd.bokehjs_exec.v0+json';\n",
       "  var CLASS_NAME = 'output_bokeh rendered_html';\n",
       "\n",
       "  /**\n",
       "   * Render data to the DOM node\n",
       "   */\n",
       "  function render(props, node) {\n",
       "    var script = document.createElement(\"script\");\n",
       "    node.appendChild(script);\n",
       "  }\n",
       "\n",
       "  /**\n",
       "   * Handle when an output is cleared or removed\n",
       "   */\n",
       "  function handleClearOutput(event, handle) {\n",
       "    var cell = handle.cell;\n",
       "\n",
       "    var id = cell.output_area._bokeh_element_id;\n",
       "    var server_id = cell.output_area._bokeh_server_id;\n",
       "    // Clean up Bokeh references\n",
       "    if (id != null && id in Bokeh.index) {\n",
       "      Bokeh.index[id].model.document.clear();\n",
       "      delete Bokeh.index[id];\n",
       "    }\n",
       "\n",
       "    if (server_id !== undefined) {\n",
       "      // Clean up Bokeh references\n",
       "      var cmd = \"from bokeh.io.state import curstate; print(curstate().uuid_to_server['\" + server_id + \"'].get_sessions()[0].document.roots[0]._id)\";\n",
       "      cell.notebook.kernel.execute(cmd, {\n",
       "        iopub: {\n",
       "          output: function(msg) {\n",
       "            var id = msg.content.text.trim();\n",
       "            if (id in Bokeh.index) {\n",
       "              Bokeh.index[id].model.document.clear();\n",
       "              delete Bokeh.index[id];\n",
       "            }\n",
       "          }\n",
       "        }\n",
       "      });\n",
       "      // Destroy server and session\n",
       "      var cmd = \"import bokeh.io.notebook as ion; ion.destroy_server('\" + server_id + \"')\";\n",
       "      cell.notebook.kernel.execute(cmd);\n",
       "    }\n",
       "  }\n",
       "\n",
       "  /**\n",
       "   * Handle when a new output is added\n",
       "   */\n",
       "  function handleAddOutput(event, handle) {\n",
       "    var output_area = handle.output_area;\n",
       "    var output = handle.output;\n",
       "\n",
       "    // limit handleAddOutput to display_data with EXEC_MIME_TYPE content only\n",
       "    if ((output.output_type != \"display_data\") || (!output.data.hasOwnProperty(EXEC_MIME_TYPE))) {\n",
       "      return\n",
       "    }\n",
       "\n",
       "    var toinsert = output_area.element.find(\".\" + CLASS_NAME.split(' ')[0]);\n",
       "\n",
       "    if (output.metadata[EXEC_MIME_TYPE][\"id\"] !== undefined) {\n",
       "      toinsert[toinsert.length - 1].firstChild.textContent = output.data[JS_MIME_TYPE];\n",
       "      // store reference to embed id on output_area\n",
       "      output_area._bokeh_element_id = output.metadata[EXEC_MIME_TYPE][\"id\"];\n",
       "    }\n",
       "    if (output.metadata[EXEC_MIME_TYPE][\"server_id\"] !== undefined) {\n",
       "      var bk_div = document.createElement(\"div\");\n",
       "      bk_div.innerHTML = output.data[HTML_MIME_TYPE];\n",
       "      var script_attrs = bk_div.children[0].attributes;\n",
       "      for (var i = 0; i < script_attrs.length; i++) {\n",
       "        toinsert[toinsert.length - 1].firstChild.setAttribute(script_attrs[i].name, script_attrs[i].value);\n",
       "      }\n",
       "      // store reference to server id on output_area\n",
       "      output_area._bokeh_server_id = output.metadata[EXEC_MIME_TYPE][\"server_id\"];\n",
       "    }\n",
       "  }\n",
       "\n",
       "  function register_renderer(events, OutputArea) {\n",
       "\n",
       "    function append_mime(data, metadata, element) {\n",
       "      // create a DOM node to render to\n",
       "      var toinsert = this.create_output_subarea(\n",
       "        metadata,\n",
       "        CLASS_NAME,\n",
       "        EXEC_MIME_TYPE\n",
       "      );\n",
       "      this.keyboard_manager.register_events(toinsert);\n",
       "      // Render to node\n",
       "      var props = {data: data, metadata: metadata[EXEC_MIME_TYPE]};\n",
       "      render(props, toinsert[toinsert.length - 1]);\n",
       "      element.append(toinsert);\n",
       "      return toinsert\n",
       "    }\n",
       "\n",
       "    /* Handle when an output is cleared or removed */\n",
       "    events.on('clear_output.CodeCell', handleClearOutput);\n",
       "    events.on('delete.Cell', handleClearOutput);\n",
       "\n",
       "    /* Handle when a new output is added */\n",
       "    events.on('output_added.OutputArea', handleAddOutput);\n",
       "\n",
       "    /**\n",
       "     * Register the mime type and append_mime function with output_area\n",
       "     */\n",
       "    OutputArea.prototype.register_mime_type(EXEC_MIME_TYPE, append_mime, {\n",
       "      /* Is output safe? */\n",
       "      safe: true,\n",
       "      /* Index of renderer in `output_area.display_order` */\n",
       "      index: 0\n",
       "    });\n",
       "  }\n",
       "\n",
       "  // register the mime type if in Jupyter Notebook environment and previously unregistered\n",
       "  if (root.Jupyter !== undefined) {\n",
       "    var events = require('base/js/events');\n",
       "    var OutputArea = require('notebook/js/outputarea').OutputArea;\n",
       "\n",
       "    if (OutputArea.prototype.mime_types().indexOf(EXEC_MIME_TYPE) == -1) {\n",
       "      register_renderer(events, OutputArea);\n",
       "    }\n",
       "  }\n",
       "\n",
       "  \n",
       "  if (typeof (root._bokeh_timeout) === \"undefined\" || force === true) {\n",
       "    root._bokeh_timeout = Date.now() + 5000;\n",
       "    root._bokeh_failed_load = false;\n",
       "  }\n",
       "\n",
       "  var NB_LOAD_WARNING = {'data': {'text/html':\n",
       "     \"<div style='background-color: #fdd'>\\n\"+\n",
       "     \"<p>\\n\"+\n",
       "     \"BokehJS does not appear to have successfully loaded. If loading BokehJS from CDN, this \\n\"+\n",
       "     \"may be due to a slow or bad network connection. Possible fixes:\\n\"+\n",
       "     \"</p>\\n\"+\n",
       "     \"<ul>\\n\"+\n",
       "     \"<li>re-rerun `output_notebook()` to attempt to load from CDN again, or</li>\\n\"+\n",
       "     \"<li>use INLINE resources instead, as so:</li>\\n\"+\n",
       "     \"</ul>\\n\"+\n",
       "     \"<code>\\n\"+\n",
       "     \"from bokeh.resources import INLINE\\n\"+\n",
       "     \"output_notebook(resources=INLINE)\\n\"+\n",
       "     \"</code>\\n\"+\n",
       "     \"</div>\"}};\n",
       "\n",
       "  function display_loaded() {\n",
       "    var el = document.getElementById(\"f4bc6c2c-df03-4694-b129-b9718db9e15a\");\n",
       "    if (el != null) {\n",
       "      el.textContent = \"BokehJS is loading...\";\n",
       "    }\n",
       "    if (root.Bokeh !== undefined) {\n",
       "      if (el != null) {\n",
       "        el.textContent = \"BokehJS \" + root.Bokeh.version + \" successfully loaded.\";\n",
       "      }\n",
       "    } else if (Date.now() < root._bokeh_timeout) {\n",
       "      setTimeout(display_loaded, 100)\n",
       "    }\n",
       "  }\n",
       "\n",
       "\n",
       "  function run_callbacks() {\n",
       "    try {\n",
       "      root._bokeh_onload_callbacks.forEach(function(callback) { callback() });\n",
       "    }\n",
       "    finally {\n",
       "      delete root._bokeh_onload_callbacks\n",
       "    }\n",
       "    console.info(\"Bokeh: all callbacks have finished\");\n",
       "  }\n",
       "\n",
       "  function load_libs(js_urls, callback) {\n",
       "    root._bokeh_onload_callbacks.push(callback);\n",
       "    if (root._bokeh_is_loading > 0) {\n",
       "      console.log(\"Bokeh: BokehJS is being loaded, scheduling callback at\", now());\n",
       "      return null;\n",
       "    }\n",
       "    if (js_urls == null || js_urls.length === 0) {\n",
       "      run_callbacks();\n",
       "      return null;\n",
       "    }\n",
       "    console.log(\"Bokeh: BokehJS not loaded, scheduling load and callback at\", now());\n",
       "    root._bokeh_is_loading = js_urls.length;\n",
       "    for (var i = 0; i < js_urls.length; i++) {\n",
       "      var url = js_urls[i];\n",
       "      var s = document.createElement('script');\n",
       "      s.src = url;\n",
       "      s.async = false;\n",
       "      s.onreadystatechange = s.onload = function() {\n",
       "        root._bokeh_is_loading--;\n",
       "        if (root._bokeh_is_loading === 0) {\n",
       "          console.log(\"Bokeh: all BokehJS libraries loaded\");\n",
       "          run_callbacks()\n",
       "        }\n",
       "      };\n",
       "      s.onerror = function() {\n",
       "        console.warn(\"failed to load library \" + url);\n",
       "      };\n",
       "      console.log(\"Bokeh: injecting script tag for BokehJS library: \", url);\n",
       "      document.getElementsByTagName(\"head\")[0].appendChild(s);\n",
       "    }\n",
       "  };var element = document.getElementById(\"f4bc6c2c-df03-4694-b129-b9718db9e15a\");\n",
       "  if (element == null) {\n",
       "    console.log(\"Bokeh: ERROR: autoload.js configured with elementid 'f4bc6c2c-df03-4694-b129-b9718db9e15a' but no matching script tag was found. \")\n",
       "    return false;\n",
       "  }\n",
       "\n",
       "  var js_urls = [\"https://cdn.pydata.org/bokeh/release/bokeh-0.13.0.min.js\", \"https://cdn.pydata.org/bokeh/release/bokeh-widgets-0.13.0.min.js\", \"https://cdn.pydata.org/bokeh/release/bokeh-tables-0.13.0.min.js\", \"https://cdn.pydata.org/bokeh/release/bokeh-gl-0.13.0.min.js\"];\n",
       "\n",
       "  var inline_js = [\n",
       "    function(Bokeh) {\n",
       "      Bokeh.set_log_level(\"info\");\n",
       "    },\n",
       "    \n",
       "    function(Bokeh) {\n",
       "      \n",
       "    },\n",
       "    function(Bokeh) {\n",
       "      console.log(\"Bokeh: injecting CSS: https://cdn.pydata.org/bokeh/release/bokeh-0.13.0.min.css\");\n",
       "      Bokeh.embed.inject_css(\"https://cdn.pydata.org/bokeh/release/bokeh-0.13.0.min.css\");\n",
       "      console.log(\"Bokeh: injecting CSS: https://cdn.pydata.org/bokeh/release/bokeh-widgets-0.13.0.min.css\");\n",
       "      Bokeh.embed.inject_css(\"https://cdn.pydata.org/bokeh/release/bokeh-widgets-0.13.0.min.css\");\n",
       "      console.log(\"Bokeh: injecting CSS: https://cdn.pydata.org/bokeh/release/bokeh-tables-0.13.0.min.css\");\n",
       "      Bokeh.embed.inject_css(\"https://cdn.pydata.org/bokeh/release/bokeh-tables-0.13.0.min.css\");\n",
       "    }\n",
       "  ];\n",
       "\n",
       "  function run_inline_js() {\n",
       "    \n",
       "    if ((root.Bokeh !== undefined) || (force === true)) {\n",
       "      for (var i = 0; i < inline_js.length; i++) {\n",
       "        inline_js[i].call(root, root.Bokeh);\n",
       "      }if (force === true) {\n",
       "        display_loaded();\n",
       "      }} else if (Date.now() < root._bokeh_timeout) {\n",
       "      setTimeout(run_inline_js, 100);\n",
       "    } else if (!root._bokeh_failed_load) {\n",
       "      console.log(\"Bokeh: BokehJS failed to load within specified timeout.\");\n",
       "      root._bokeh_failed_load = true;\n",
       "    } else if (force !== true) {\n",
       "      var cell = $(document.getElementById(\"f4bc6c2c-df03-4694-b129-b9718db9e15a\")).parents('.cell').data().cell;\n",
       "      cell.output_area.append_execute_result(NB_LOAD_WARNING)\n",
       "    }\n",
       "\n",
       "  }\n",
       "\n",
       "  if (root._bokeh_is_loading === 0) {\n",
       "    console.log(\"Bokeh: BokehJS loaded, going straight to plotting\");\n",
       "    run_inline_js();\n",
       "  } else {\n",
       "    load_libs(js_urls, function() {\n",
       "      console.log(\"Bokeh: BokehJS plotting callback run at\", now());\n",
       "      run_inline_js();\n",
       "    });\n",
       "  }\n",
       "}(window));"
      ],
      "application/vnd.bokehjs_load.v0+json": "\n(function(root) {\n  function now() {\n    return new Date();\n  }\n\n  var force = true;\n\n  if (typeof (root._bokeh_onload_callbacks) === \"undefined\" || force === true) {\n    root._bokeh_onload_callbacks = [];\n    root._bokeh_is_loading = undefined;\n  }\n\n  \n\n  \n  if (typeof (root._bokeh_timeout) === \"undefined\" || force === true) {\n    root._bokeh_timeout = Date.now() + 5000;\n    root._bokeh_failed_load = false;\n  }\n\n  var NB_LOAD_WARNING = {'data': {'text/html':\n     \"<div style='background-color: #fdd'>\\n\"+\n     \"<p>\\n\"+\n     \"BokehJS does not appear to have successfully loaded. If loading BokehJS from CDN, this \\n\"+\n     \"may be due to a slow or bad network connection. Possible fixes:\\n\"+\n     \"</p>\\n\"+\n     \"<ul>\\n\"+\n     \"<li>re-rerun `output_notebook()` to attempt to load from CDN again, or</li>\\n\"+\n     \"<li>use INLINE resources instead, as so:</li>\\n\"+\n     \"</ul>\\n\"+\n     \"<code>\\n\"+\n     \"from bokeh.resources import INLINE\\n\"+\n     \"output_notebook(resources=INLINE)\\n\"+\n     \"</code>\\n\"+\n     \"</div>\"}};\n\n  function display_loaded() {\n    var el = document.getElementById(\"f4bc6c2c-df03-4694-b129-b9718db9e15a\");\n    if (el != null) {\n      el.textContent = \"BokehJS is loading...\";\n    }\n    if (root.Bokeh !== undefined) {\n      if (el != null) {\n        el.textContent = \"BokehJS \" + root.Bokeh.version + \" successfully loaded.\";\n      }\n    } else if (Date.now() < root._bokeh_timeout) {\n      setTimeout(display_loaded, 100)\n    }\n  }\n\n\n  function run_callbacks() {\n    try {\n      root._bokeh_onload_callbacks.forEach(function(callback) { callback() });\n    }\n    finally {\n      delete root._bokeh_onload_callbacks\n    }\n    console.info(\"Bokeh: all callbacks have finished\");\n  }\n\n  function load_libs(js_urls, callback) {\n    root._bokeh_onload_callbacks.push(callback);\n    if (root._bokeh_is_loading > 0) {\n      console.log(\"Bokeh: BokehJS is being loaded, scheduling callback at\", now());\n      return null;\n    }\n    if (js_urls == null || js_urls.length === 0) {\n      run_callbacks();\n      return null;\n    }\n    console.log(\"Bokeh: BokehJS not loaded, scheduling load and callback at\", now());\n    root._bokeh_is_loading = js_urls.length;\n    for (var i = 0; i < js_urls.length; i++) {\n      var url = js_urls[i];\n      var s = document.createElement('script');\n      s.src = url;\n      s.async = false;\n      s.onreadystatechange = s.onload = function() {\n        root._bokeh_is_loading--;\n        if (root._bokeh_is_loading === 0) {\n          console.log(\"Bokeh: all BokehJS libraries loaded\");\n          run_callbacks()\n        }\n      };\n      s.onerror = function() {\n        console.warn(\"failed to load library \" + url);\n      };\n      console.log(\"Bokeh: injecting script tag for BokehJS library: \", url);\n      document.getElementsByTagName(\"head\")[0].appendChild(s);\n    }\n  };var element = document.getElementById(\"f4bc6c2c-df03-4694-b129-b9718db9e15a\");\n  if (element == null) {\n    console.log(\"Bokeh: ERROR: autoload.js configured with elementid 'f4bc6c2c-df03-4694-b129-b9718db9e15a' but no matching script tag was found. \")\n    return false;\n  }\n\n  var js_urls = [\"https://cdn.pydata.org/bokeh/release/bokeh-0.13.0.min.js\", \"https://cdn.pydata.org/bokeh/release/bokeh-widgets-0.13.0.min.js\", \"https://cdn.pydata.org/bokeh/release/bokeh-tables-0.13.0.min.js\", \"https://cdn.pydata.org/bokeh/release/bokeh-gl-0.13.0.min.js\"];\n\n  var inline_js = [\n    function(Bokeh) {\n      Bokeh.set_log_level(\"info\");\n    },\n    \n    function(Bokeh) {\n      \n    },\n    function(Bokeh) {\n      console.log(\"Bokeh: injecting CSS: https://cdn.pydata.org/bokeh/release/bokeh-0.13.0.min.css\");\n      Bokeh.embed.inject_css(\"https://cdn.pydata.org/bokeh/release/bokeh-0.13.0.min.css\");\n      console.log(\"Bokeh: injecting CSS: https://cdn.pydata.org/bokeh/release/bokeh-widgets-0.13.0.min.css\");\n      Bokeh.embed.inject_css(\"https://cdn.pydata.org/bokeh/release/bokeh-widgets-0.13.0.min.css\");\n      console.log(\"Bokeh: injecting CSS: https://cdn.pydata.org/bokeh/release/bokeh-tables-0.13.0.min.css\");\n      Bokeh.embed.inject_css(\"https://cdn.pydata.org/bokeh/release/bokeh-tables-0.13.0.min.css\");\n    }\n  ];\n\n  function run_inline_js() {\n    \n    if ((root.Bokeh !== undefined) || (force === true)) {\n      for (var i = 0; i < inline_js.length; i++) {\n        inline_js[i].call(root, root.Bokeh);\n      }if (force === true) {\n        display_loaded();\n      }} else if (Date.now() < root._bokeh_timeout) {\n      setTimeout(run_inline_js, 100);\n    } else if (!root._bokeh_failed_load) {\n      console.log(\"Bokeh: BokehJS failed to load within specified timeout.\");\n      root._bokeh_failed_load = true;\n    } else if (force !== true) {\n      var cell = $(document.getElementById(\"f4bc6c2c-df03-4694-b129-b9718db9e15a\")).parents('.cell').data().cell;\n      cell.output_area.append_execute_result(NB_LOAD_WARNING)\n    }\n\n  }\n\n  if (root._bokeh_is_loading === 0) {\n    console.log(\"Bokeh: BokehJS loaded, going straight to plotting\");\n    run_inline_js();\n  } else {\n    load_libs(js_urls, function() {\n      console.log(\"Bokeh: BokehJS plotting callback run at\", now());\n      run_inline_js();\n    });\n  }\n}(window));"
     },
     "metadata": {},
     "output_type": "display_data"
    }
   ],
   "source": [
    "import pandas as pd\n",
    "import numpy as np\n",
    "import matplotlib.pyplot as plt\n",
    "from bokeh.plotting import figure, output_file, show\n",
    "from bokeh.io import output_notebook\n",
    "from bokeh.io import export_svgs\n",
    "from scipy import stats\n",
    "import seaborn as sns\n",
    "from colour import Color\n",
    "from matplotlib import colors\n",
    "import scipy.special\n",
    "from bokeh.layouts import gridplot\n",
    "from statsmodels.sandbox.stats.multicomp import multipletests\n",
    "\n",
    "\n",
    "output_notebook()"
   ]
  },
  {
   "cell_type": "code",
   "execution_count": 167,
   "metadata": {},
   "outputs": [],
   "source": [
    "# Raw Data In\n",
    "networkin_out = pd.read_csv(\"networKIN_out_Ensembl74_IsoformsRemoved.txt\", sep='\\t')\n",
    "groupAnnotations = pd.read_csv(\"20181008_RapMICData_GroupAnnotations.csv\")\n",
    "groupAnnotations2 = pd.read_csv(\"20181008_RapMICData_GroupAnnotations_NewGroupings.csv\")\n",
    "\n",
    "# Annotate networkin_out with group annotations\n",
    "networkin_out[\"EnsemblID\"] = networkin_out[\"#Name\"] + networkin_out[\"Position\"]\n"
   ]
  },
  {
   "cell_type": "code",
   "execution_count": 181,
   "metadata": {},
   "outputs": [
    {
     "data": {
      "text/plain": [
       "7879"
      ]
     },
     "execution_count": 181,
     "metadata": {},
     "output_type": "execute_result"
    }
   ],
   "source": [
    "len(networkin_out[\"EnsemblID\"].unique())"
   ]
  },
  {
   "cell_type": "code",
   "execution_count": 104,
   "metadata": {},
   "outputs": [],
   "source": [
    "# Subset all MAPK3 Assignments\n",
    "networkin_out_MAPK3 = networkin_out.loc[networkin_out[\"Kinase/Phosphatase/Phospho-binding domain\"] == \"MAPK3\"]\n",
    "\n",
    "# Subset all MIC Main Effects in GroupAnnotations\n",
    "MIC_MainEffects_PositiveFC_IDS = groupAnnotations.loc[groupAnnotations[\"HasKinase_MIC_MainEffect_((VEC+REC)-(VC+RC))>0\"]==1]\n",
    "\n",
    "# Subset all MAPK3 Assignments that are in MIC Main Effect\n",
    "networkin_out_MAPK3_MICMainEffect = networkin_out_MAPK3[networkin_out_MAPK3[\"EnsemblID\"].isin(MIC_MainEffects_PositiveFC_IDS[\"ENSEMBL74ID\"])]\n",
    "\n",
    "#Subset All CSNK1A1 Assignment\n",
    "networkin_out_CSNK1A1 = networkin_out.loc[networkin_out[\"Kinase/Phosphatase/Phospho-binding domain\"] == \"CK1alpha\"]\n",
    "\n",
    "#Subset all CSNK1A1 Assignment that are in MIC Main Effect\n",
    "networkin_out_CSNK1A1_MICMainEffect = networkin_out_CSNK1A1[networkin_out_CSNK1A1[\"EnsemblID\"].isin(MIC_MainEffects_PositiveFC_IDS[\"ENSEMBL74ID\"])]"
   ]
  },
  {
   "cell_type": "code",
   "execution_count": 6,
   "metadata": {},
   "outputs": [
    {
     "data": {
      "text/plain": [
       "7626"
      ]
     },
     "execution_count": 6,
     "metadata": {},
     "output_type": "execute_result"
    }
   ],
   "source": [
    "len(networkin_out_CSNK1A1)"
   ]
  },
  {
   "cell_type": "code",
   "execution_count": 131,
   "metadata": {},
   "outputs": [
    {
     "name": "stdout",
     "output_type": "stream",
     "text": [
      "2.9996\n",
      "494\n",
      "CDF1[-1]: 103.90689941812137\n",
      "CDF2[-1]: 103.55182768975877\n",
      "2.9996\n"
     ]
    },
    {
     "data": {
      "text/html": [
       "\n",
       "\n",
       "\n",
       "\n",
       "\n",
       "\n",
       "  <div class=\"bk-root\" id=\"ca1a9683-e00c-437a-94b7-bb381c3f4706\"></div>\n"
      ]
     },
     "metadata": {},
     "output_type": "display_data"
    },
    {
     "data": {
      "application/javascript": [
       "(function(root) {\n",
       "  function embed_document(root) {\n",
       "    \n",
       "  var docs_json = {\"3e2b3def-e185-457e-8b79-9f277c3b52e5\":{\"roots\":{\"references\":[{\"attributes\":{\"callback\":null,\"end\":3},\"id\":\"46ff7128-103a-4cf9-a495-1a7bac625067\",\"type\":\"Range1d\"},{\"attributes\":{},\"id\":\"640e9287-1d12-4755-9306-de106bea4a78\",\"type\":\"BasicTickFormatter\"},{\"attributes\":{},\"id\":\"0cfc760f-07ba-4898-a344-7cecb270aa33\",\"type\":\"BasicTickFormatter\"},{\"attributes\":{},\"id\":\"e5e3dc4b-279a-48e3-beca-127747c93144\",\"type\":\"UnionRenderers\"},{\"attributes\":{\"plot\":null,\"text\":\"Distribution of All MAPK3 Scores\"},\"id\":\"eecfafae-1ed8-4c5a-a5dc-d044ab6c09dc\",\"type\":\"Title\"},{\"attributes\":{\"formatter\":{\"id\":\"0cfc760f-07ba-4898-a344-7cecb270aa33\",\"type\":\"BasicTickFormatter\"},\"plot\":{\"id\":\"83668d58-43c9-4d87-ba9c-e76d931914f6\",\"subtype\":\"Figure\",\"type\":\"Plot\"},\"ticker\":{\"id\":\"aa9360b8-b75a-46a1-8387-6887e9036a8b\",\"type\":\"BasicTicker\"}},\"id\":\"fc32d776-7140-47e0-909a-c2f33b7bae4f\",\"type\":\"LinearAxis\"},{\"attributes\":{\"callback\":null,\"data\":{\"left\":{\"__ndarray__\":\"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\",\"dtype\":\"float64\",\"shape\":[300]},\"right\":{\"__ndarray__\":\"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\",\"dtype\":\"float64\",\"shape\":[300]},\"top\":{\"__ndarray__\":\"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\",\"dtype\":\"float64\",\"shape\":[300]}},\"selected\":{\"id\":\"2f0590b0-5558-4bfa-a7ce-02f4d35384fc\",\"type\":\"Selection\"},\"selection_policy\":{\"id\":\"e5e3dc4b-279a-48e3-beca-127747c93144\",\"type\":\"UnionRenderers\"}},\"id\":\"cf648242-c0a8-4e49-9437-5fdbbb59f877\",\"type\":\"ColumnDataSource\"},{\"attributes\":{},\"id\":\"2f0590b0-5558-4bfa-a7ce-02f4d35384fc\",\"type\":\"Selection\"},{\"attributes\":{},\"id\":\"d4d836c1-cfb7-47d0-9b7a-f798a923b009\",\"type\":\"UnionRenderers\"},{\"attributes\":{},\"id\":\"01ebf107-2c90-452d-b457-76ded2028a1e\",\"type\":\"SaveTool\"},{\"attributes\":{},\"id\":\"60b9f20b-638a-42d1-b1af-3c8dc51928e3\",\"type\":\"Selection\"},{\"attributes\":{},\"id\":\"25492b42-4c83-4358-9956-a9b52d37883c\",\"type\":\"LinearScale\"},{\"attributes\":{},\"id\":\"c158719c-344a-4c36-9675-89793984966e\",\"type\":\"UnionRenderers\"},{\"attributes\":{\"bottom\":{\"value\":0},\"fill_alpha\":{\"value\":0.1},\"fill_color\":{\"value\":\"#1f77b4\"},\"left\":{\"field\":\"left\"},\"line_alpha\":{\"value\":0.1},\"line_color\":{\"value\":\"#1f77b4\"},\"right\":{\"field\":\"right\"},\"top\":{\"field\":\"top\"}},\"id\":\"5396e835-7068-4681-b889-407bd6abbb8f\",\"type\":\"Quad\"},{\"attributes\":{},\"id\":\"e275edfa-7170-4349-9e36-ba48f561f959\",\"type\":\"Selection\"},{\"attributes\":{\"source\":{\"id\":\"cf648242-c0a8-4e49-9437-5fdbbb59f877\",\"type\":\"ColumnDataSource\"}},\"id\":\"c6730b1b-cb3b-4b2a-bb92-602c6c70a32e\",\"type\":\"CDSView\"},{\"attributes\":{},\"id\":\"8dde5bd2-03a9-4f5c-9b75-7fc09f1879e2\",\"type\":\"UnionRenderers\"},{\"attributes\":{},\"id\":\"aa9360b8-b75a-46a1-8387-6887e9036a8b\",\"type\":\"BasicTicker\"},{\"attributes\":{},\"id\":\"bba533c7-7bcc-452b-986c-b40100a566eb\",\"type\":\"Selection\"},{\"attributes\":{\"callback\":null},\"id\":\"54042845-21e9-461c-8c1f-b118643dd4c2\",\"type\":\"Range1d\"},{\"attributes\":{\"dimension\":1,\"plot\":{\"id\":\"83668d58-43c9-4d87-ba9c-e76d931914f6\",\"subtype\":\"Figure\",\"type\":\"Plot\"},\"ticker\":{\"id\":\"d4754b08-46c4-4fa0-bcf9-d227e8e3f517\",\"type\":\"BasicTicker\"}},\"id\":\"0e904fd0-e674-48a3-8295-9bff227ffd5d\",\"type\":\"Grid\"},{\"attributes\":{\"callback\":null,\"data\":{\"left\":{\"__ndarray__\":\"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\",\"dtype\":\"float64\",\"shape\":[300]},\"right\":{\"__ndarray__\":\"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\",\"dtype\":\"float64\",\"shape\":[300]},\"top\":{\"__ndarray__\":\"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\",\"dtype\":\"float64\",\"shape\":[300]}},\"selected\":{\"id\":\"e275edfa-7170-4349-9e36-ba48f561f959\",\"type\":\"Selection\"},\"selection_policy\":{\"id\":\"c158719c-344a-4c36-9675-89793984966e\",\"type\":\"UnionRenderers\"}},\"id\":\"d63459e8-2c99-4ff6-a549-33727a06c9eb\",\"type\":\"ColumnDataSource\"},{\"attributes\":{\"bottom\":{\"value\":0},\"fill_alpha\":{\"value\":0.5},\"fill_color\":{\"value\":\"#036564\"},\"left\":{\"field\":\"left\"},\"line_alpha\":{\"value\":0.5},\"line_color\":{\"value\":\"red\"},\"right\":{\"field\":\"right\"},\"top\":{\"field\":\"top\"}},\"id\":\"687eeae4-4071-4dd0-9059-263bfa7846a7\",\"type\":\"Quad\"},{\"attributes\":{\"data_source\":{\"id\":\"43e4b553-889c-4e49-b391-a5f16150d9cf\",\"type\":\"ColumnDataSource\"},\"glyph\":{\"id\":\"19e4ec64-e209-4b27-8d34-b2ce0474ab89\",\"type\":\"Line\"},\"hover_glyph\":null,\"muted_glyph\":null,\"nonselection_glyph\":{\"id\":\"e00da874-ec7a-4f24-8851-04d95fc4ab72\",\"type\":\"Line\"},\"selection_glyph\":null,\"view\":{\"id\":\"77809c10-2cf8-4d4f-9196-8130c173dd62\",\"type\":\"CDSView\"}},\"id\":\"e01a9097-1f0a-4534-9e7b-8ad582e9d6ee\",\"type\":\"GlyphRenderer\"},{\"attributes\":{\"plot\":{\"id\":\"83668d58-43c9-4d87-ba9c-e76d931914f6\",\"subtype\":\"Figure\",\"type\":\"Plot\"},\"ticker\":{\"id\":\"aa9360b8-b75a-46a1-8387-6887e9036a8b\",\"type\":\"BasicTicker\"}},\"id\":\"a7d84560-1197-49d6-b7d8-bb1d7c37b1b4\",\"type\":\"Grid\"},{\"attributes\":{\"data_source\":{\"id\":\"cf648242-c0a8-4e49-9437-5fdbbb59f877\",\"type\":\"ColumnDataSource\"},\"glyph\":{\"id\":\"687eeae4-4071-4dd0-9059-263bfa7846a7\",\"type\":\"Quad\"},\"hover_glyph\":null,\"muted_glyph\":null,\"nonselection_glyph\":{\"id\":\"5396e835-7068-4681-b889-407bd6abbb8f\",\"type\":\"Quad\"},\"selection_glyph\":null,\"view\":{\"id\":\"c6730b1b-cb3b-4b2a-bb92-602c6c70a32e\",\"type\":\"CDSView\"}},\"id\":\"e48fb001-01a8-4f28-a776-a06dda4af916\",\"type\":\"GlyphRenderer\"},{\"attributes\":{\"line_alpha\":0.1,\"line_color\":\"#1f77b4\",\"x\":{\"field\":\"x\"},\"y\":{\"field\":\"y\"}},\"id\":\"e00da874-ec7a-4f24-8851-04d95fc4ab72\",\"type\":\"Line\"},{\"attributes\":{\"bottom\":{\"value\":0},\"fill_alpha\":{\"value\":0.5},\"fill_color\":{\"value\":\"#FF0000\"},\"left\":{\"field\":\"left\"},\"line_alpha\":{\"value\":0.5},\"line_color\":{\"value\":\"#033649\"},\"right\":{\"field\":\"right\"},\"top\":{\"field\":\"top\"}},\"id\":\"fa82e653-9619-4b52-bf3f-99189342531e\",\"type\":\"Quad\"},{\"attributes\":{},\"id\":\"5f6c0d75-c3fd-472d-b6b2-d1d2412cbd99\",\"type\":\"LinearScale\"},{\"attributes\":{\"line_color\":\"#1f77b4\",\"x\":{\"field\":\"x\"},\"y\":{\"field\":\"y\"}},\"id\":\"19e4ec64-e209-4b27-8d34-b2ce0474ab89\",\"type\":\"Line\"},{\"attributes\":{\"source\":{\"id\":\"d63459e8-2c99-4ff6-a549-33727a06c9eb\",\"type\":\"ColumnDataSource\"}},\"id\":\"e8d364b0-8ff5-4151-ae52-3e89333c18a9\",\"type\":\"CDSView\"},{\"attributes\":{\"callback\":null,\"data\":{\"x\":{\"__ndarray__\":\"Fr1TAfc8vz84ukp319nAP+aV620zFcI/k3GMZI9Qwz9ATS1b64vEP+4ozlFHx8U/mwRvSKMCxz9I4A8//z3IP/W7sDVbeck/opdRLLe0yj9Qc/IiE/DLP/1OkxlvK80/qio0EMtmzj9YBtUGJ6LPPwLxun7BbtA/2V4Lem8M0T+wzFt1HarRP4Y6rHDLR9I/Xaj8a3nl0j80Fk1nJ4PTPwqEnWLVINQ/4fHtXYO+1D+4Xz5ZMVzVP47NjlTf+dU/ZDvfT42X1j87qS9LOzXXPxIXgEbp0tc/6YTQQZdw2D+/8iA9RQ7ZP5ZgcTjzq9k/bM7BM6FJ2j9DPBIvT+faPxqqYir9hNs/8BezJasi3D/HhQMhWcDcP53zUxwHXt0/dGGkF7X73T9Lz/QSY5nePyE9RQ4RN98/+KqVCb/U3z9oDHOCNjngP1JDG4ANiOA/PnrDfeTW4D8qsWt7uyXhPxToE3mSdOE/AB+8dmnD4T/rVWR0QBLiP9aMDHIXYeI/wsO0b+6v4j+t+lxtxf7iP5gxBWucTeM/hGitaHOc4z9wn1VmSuvjP1rW/WMhOuQ/Rg2mYfiI5D8yRE5fz9fkPxx79lymJuU/CLKeWn115T/y6EZYVMTlP94f71UrE+Y/ylaXUwJi5j+0jT9R2bDmP6DE506w/+Y/jPuPTIdO5z92MjhKXp3nP2Jp4Ec17Oc/TqCIRQw76D841zBD44noPyQO2UC62Og/EEWBPpEn6T/6eyk8aHbpP+ay0Tk/xek/0ul5NxYU6j+8ICI17WLqP6hXyjLEseo/lI5yMJsA6z9+xRouck/rP2r8witJnus/VjNrKSDt6z9AahMn9zvsPyyhuyTOiuw/GNhjIqXZ7D8CDwwgfCjtP+5FtB1Td+0/2nxcGyrG7T/EswQZARXuP7DqrBbYY+4/nCFVFK+y7j+GWP0RhgHvP3KPpQ9dUO8/XMZNDTSf7z9I/fUKC+7vPxoaTwRxHvA/jzUjg9xF8D8FUfcBSG3wP3tsy4CzlPA/8Ief/x688D9mo3N+iuPwP9y+R/31CvE/UdobfGEy8T/H9e/6zFnxPz0RxHk4gfE/siyY+KOo8T8oSGx3D9DxP55jQPZ69/E/FH8UdeYe8j+JmujzUUbyP/+1vHK9bfI/ddGQ8SiV8j/q7GRwlLzyP2AIOe//4/I/1iMNbmsL8z9LP+Hs1jLzP8FatWtCWvM/NnaJ6q2B8z+skV1pGanzPyKtMeiE0PM/l8gFZ/D38z8N5NnlWx/0P4P/rWTHRvQ/+BqC4zJu9D9uNlZinpX0P+RRKuEJvfQ/WW3+X3Xk9D/PiNLe4Av1P0Wkpl1MM/U/ur963Lda9T8w205bI4L1P6b2ItqOqfU/GxL3WPrQ9T+RLcvXZfj1PwdJn1bRH/Y/fGRz1TxH9j/yf0dUqG72P2ibG9MTlvY/3bbvUX+99j9T0sPQ6uT2P8ntl09WDPc/PglszsEz9z+0JEBNLVv3PypAFMyYgvc/n1voSgSq9z8Vd7zJb9H3P4qSkEjb+Pc/AK5kx0Yg+D92yThGskf4P+vkDMUdb/g/YQDhQ4mW+D/XG7XC9L34P0w3iUFg5fg/wlJdwMsM+T84bjE/NzT5P62JBb6iW/k/I6XZPA6D+T+ZwK27ear5Pw7cgTrl0fk/hPdVuVD5+T/6Eio4vCD6P28u/rYnSPo/5UnSNZNv+j9bZaa0/pb6P9CAejNqvvo/RpxOstXl+j+8tyIxQQ37PzHT9q+sNPs/p+7KLhhc+z8dCp+tg4P7P5Ilcyzvqvs/CEFHq1rS+z9+XBsqxvn7P/N376gxIfw/aZPDJ51I/D/frpemCHD8P1TKayV0l/w/yuU/pN++/D9AARQjS+b8P7Uc6KG2Df0/Kzi8ICI1/T+gU5CfjVz9PxZvZB75g/0/jIo4nWSr/T8Bpgwc0NL9P3fB4Jo7+v0/7dy0Gach/j9i+IiYEkn+P9gTXRd+cP4/Ti8xlumX/j/DSgUVVb/+Pzlm2ZPA5v4/r4GtEiwO/z8knYGRlzX/P5q4VRADXf8/ENQpj26E/z+F7/0N2qv/P/sK0oxF0/8/cSamC7H6/z/zID1FDhEAQK4upwTEJABAaTwRxHk4AEAjSnuDL0wAQN5X5ULlXwBAmWVPAptzAEBUc7nBUIcAQA+BI4EGmwBAyo6NQLyuAECEnPf/ccIAQD+qYb8n1gBA+rfLft3pAEC1xTU+k/0AQHDTn/1IEQFAK+EJvf4kAUDm7nN8tDgBQKD83TtqTAFAWwpI+x9gAUAWGLK61XMBQNElHHqLhwFAjDOGOUGbAUBHQfD49q4BQAFPWriswgFAvFzEd2LWAUB3ai43GOoBQDJ4mPbN/QFA7YUCtoMRAkCok2x1OSUCQGKh1jTvOAJAHa9A9KRMAkDYvKqzWmACQJPKFHMQdAJATth+MsaHAkAI5ujxe5sCQMPzUrExrwJAfgG9cOfCAkA5DycwndYCQPQcke9S6gJAryr7rgj+AkBpOGVuvhEDQCRGzy10JQNA31M57Sk5A0CaYaOs30wDQFVvDWyVYANAEH13K0t0A0DKiuHqAIgDQIWYS6q2mwNAQKa1aWyvA0D7sx8pIsMDQLbBiejX1gNAcc/zp43qA0Ar3V1nQ/4DQObqxyb5EQRAofgx5q4lBEBcBpylZDkEQBcUBmUaTQRA0iFwJNBgBECML9rjhXQEQEc9RKM7iARAAkuuYvGbBEC9WBgip68EQHhmguFcwwRAMnTsoBLXBEDtgVZgyOoEQKiPwB9+/gRAY50q3zMSBUAeq5Se6SUFQNm4/l2fOQVAk8ZoHVVNBUBO1NLcCmEFQAniPJzAdAVAxO+mW3aIBUB//RAbLJwFQDoLe9rhrwVA9BjlmZfDBUCvJk9ZTdcFQGo0uRgD6wVAJUIj2Lj+BUDgT42XbhIGQJtd91YkJgZAVWthFto5BkAQecvVj00GQMuGNZVFYQZAhpSfVPt0BkBBogkUsYgGQPyvc9NmnAZAtr3dkhywBkBxy0dS0sMGQCzZsRGI1wZA5+Yb0T3rBkCi9IWQ8/4GQFwC8E+pEgdAFxBaD18mB0DSHcTOFDoHQI0rLo7KTQdASDmYTYBhB0ADRwINNnUHQL1UbMzriAdAeGLWi6GcB0AzcEBLV7AHQO59qgoNxAdAqYsUysLXB0BkmX6JeOsHQB6n6Egu/wdA\",\"dtype\":\"float64\",\"shape\":[300]},\"y\":{\"__ndarray__\":\"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\",\"dtype\":\"float64\",\"shape\":[300]}},\"selected\":{\"id\":\"bba533c7-7bcc-452b-986c-b40100a566eb\",\"type\":\"Selection\"},\"selection_policy\":{\"id\":\"8dde5bd2-03a9-4f5c-9b75-7fc09f1879e2\",\"type\":\"UnionRenderers\"}},\"id\":\"3dc8e16d-a282-4042-8b44-af1450282296\",\"type\":\"ColumnDataSource\"},{\"attributes\":{\"active_drag\":\"auto\",\"active_inspect\":\"auto\",\"active_multi\":null,\"active_scroll\":\"auto\",\"active_tap\":\"auto\",\"tools\":[{\"id\":\"01ebf107-2c90-452d-b457-76ded2028a1e\",\"type\":\"SaveTool\"}]},\"id\":\"eaf508a4-5997-47fa-8a9b-a6107aa856e2\",\"type\":\"Toolbar\"},{\"attributes\":{\"below\":[{\"id\":\"fc32d776-7140-47e0-909a-c2f33b7bae4f\",\"type\":\"LinearAxis\"}],\"left\":[{\"id\":\"a5de295b-99ef-481e-9797-113e07bd9c69\",\"type\":\"LinearAxis\"}],\"output_backend\":\"svg\",\"renderers\":[{\"id\":\"fc32d776-7140-47e0-909a-c2f33b7bae4f\",\"type\":\"LinearAxis\"},{\"id\":\"a7d84560-1197-49d6-b7d8-bb1d7c37b1b4\",\"type\":\"Grid\"},{\"id\":\"a5de295b-99ef-481e-9797-113e07bd9c69\",\"type\":\"LinearAxis\"},{\"id\":\"0e904fd0-e674-48a3-8295-9bff227ffd5d\",\"type\":\"Grid\"},{\"id\":\"e48fb001-01a8-4f28-a776-a06dda4af916\",\"type\":\"GlyphRenderer\"},{\"id\":\"e01a9097-1f0a-4534-9e7b-8ad582e9d6ee\",\"type\":\"GlyphRenderer\"},{\"id\":\"7e9e438a-0315-47b0-a249-07db30910248\",\"type\":\"GlyphRenderer\"},{\"id\":\"00733d73-d61e-4861-a8d7-5bbc088a34f7\",\"type\":\"GlyphRenderer\"}],\"title\":{\"id\":\"eecfafae-1ed8-4c5a-a5dc-d044ab6c09dc\",\"type\":\"Title\"},\"toolbar\":{\"id\":\"eaf508a4-5997-47fa-8a9b-a6107aa856e2\",\"type\":\"Toolbar\"},\"x_range\":{\"id\":\"46ff7128-103a-4cf9-a495-1a7bac625067\",\"type\":\"Range1d\"},\"x_scale\":{\"id\":\"25492b42-4c83-4358-9956-a9b52d37883c\",\"type\":\"LinearScale\"},\"y_range\":{\"id\":\"54042845-21e9-461c-8c1f-b118643dd4c2\",\"type\":\"Range1d\"},\"y_scale\":{\"id\":\"5f6c0d75-c3fd-472d-b6b2-d1d2412cbd99\",\"type\":\"LinearScale\"}},\"id\":\"83668d58-43c9-4d87-ba9c-e76d931914f6\",\"subtype\":\"Figure\",\"type\":\"Plot\"},{\"attributes\":{\"data_source\":{\"id\":\"3dc8e16d-a282-4042-8b44-af1450282296\",\"type\":\"ColumnDataSource\"},\"glyph\":{\"id\":\"a963206d-cc66-4ec1-aa08-6719e5df17a0\",\"type\":\"Line\"},\"hover_glyph\":null,\"muted_glyph\":null,\"nonselection_glyph\":{\"id\":\"39b65996-86ac-4734-be10-17456c5d5e4f\",\"type\":\"Line\"},\"selection_glyph\":null,\"view\":{\"id\":\"ebc1402c-11a9-4ad3-a10f-7427fb93b01d\",\"type\":\"CDSView\"}},\"id\":\"00733d73-d61e-4861-a8d7-5bbc088a34f7\",\"type\":\"GlyphRenderer\"},{\"attributes\":{\"source\":{\"id\":\"43e4b553-889c-4e49-b391-a5f16150d9cf\",\"type\":\"ColumnDataSource\"}},\"id\":\"77809c10-2cf8-4d4f-9196-8130c173dd62\",\"type\":\"CDSView\"},{\"attributes\":{\"data_source\":{\"id\":\"d63459e8-2c99-4ff6-a549-33727a06c9eb\",\"type\":\"ColumnDataSource\"},\"glyph\":{\"id\":\"fa82e653-9619-4b52-bf3f-99189342531e\",\"type\":\"Quad\"},\"hover_glyph\":null,\"muted_glyph\":null,\"nonselection_glyph\":{\"id\":\"c0324a52-d219-481f-80bc-1fe84851c47e\",\"type\":\"Quad\"},\"selection_glyph\":null,\"view\":{\"id\":\"e8d364b0-8ff5-4151-ae52-3e89333c18a9\",\"type\":\"CDSView\"}},\"id\":\"7e9e438a-0315-47b0-a249-07db30910248\",\"type\":\"GlyphRenderer\"},{\"attributes\":{\"bottom\":{\"value\":0},\"fill_alpha\":{\"value\":0.1},\"fill_color\":{\"value\":\"#1f77b4\"},\"left\":{\"field\":\"left\"},\"line_alpha\":{\"value\":0.1},\"line_color\":{\"value\":\"#1f77b4\"},\"right\":{\"field\":\"right\"},\"top\":{\"field\":\"top\"}},\"id\":\"c0324a52-d219-481f-80bc-1fe84851c47e\",\"type\":\"Quad\"},{\"attributes\":{\"source\":{\"id\":\"3dc8e16d-a282-4042-8b44-af1450282296\",\"type\":\"ColumnDataSource\"}},\"id\":\"ebc1402c-11a9-4ad3-a10f-7427fb93b01d\",\"type\":\"CDSView\"},{\"attributes\":{\"formatter\":{\"id\":\"640e9287-1d12-4755-9306-de106bea4a78\",\"type\":\"BasicTickFormatter\"},\"plot\":{\"id\":\"83668d58-43c9-4d87-ba9c-e76d931914f6\",\"subtype\":\"Figure\",\"type\":\"Plot\"},\"ticker\":{\"id\":\"d4754b08-46c4-4fa0-bcf9-d227e8e3f517\",\"type\":\"BasicTicker\"}},\"id\":\"a5de295b-99ef-481e-9797-113e07bd9c69\",\"type\":\"LinearAxis\"},{\"attributes\":{\"line_alpha\":0.1,\"line_color\":\"#1f77b4\",\"x\":{\"field\":\"x\"},\"y\":{\"field\":\"y\"}},\"id\":\"39b65996-86ac-4734-be10-17456c5d5e4f\",\"type\":\"Line\"},{\"attributes\":{\"callback\":null,\"data\":{\"x\":{\"__ndarray__\":\"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\",\"dtype\":\"float64\",\"shape\":[300]},\"y\":{\"__ndarray__\":\"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\",\"dtype\":\"float64\",\"shape\":[300]}},\"selected\":{\"id\":\"60b9f20b-638a-42d1-b1af-3c8dc51928e3\",\"type\":\"Selection\"},\"selection_policy\":{\"id\":\"d4d836c1-cfb7-47d0-9b7a-f798a923b009\",\"type\":\"UnionRenderers\"}},\"id\":\"43e4b553-889c-4e49-b391-a5f16150d9cf\",\"type\":\"ColumnDataSource\"},{\"attributes\":{\"line_color\":\"red\",\"x\":{\"field\":\"x\"},\"y\":{\"field\":\"y\"}},\"id\":\"a963206d-cc66-4ec1-aa08-6719e5df17a0\",\"type\":\"Line\"},{\"attributes\":{},\"id\":\"d4754b08-46c4-4fa0-bcf9-d227e8e3f517\",\"type\":\"BasicTicker\"}],\"root_ids\":[\"83668d58-43c9-4d87-ba9c-e76d931914f6\"]},\"title\":\"Bokeh Application\",\"version\":\"0.13.0\"}};\n",
       "  var render_items = [{\"docid\":\"3e2b3def-e185-457e-8b79-9f277c3b52e5\",\"roots\":{\"83668d58-43c9-4d87-ba9c-e76d931914f6\":\"ca1a9683-e00c-437a-94b7-bb381c3f4706\"}}];\n",
       "  root.Bokeh.embed.embed_items_notebook(docs_json, render_items);\n",
       "\n",
       "  }\n",
       "  if (root.Bokeh !== undefined) {\n",
       "    embed_document(root);\n",
       "  } else {\n",
       "    var attempts = 0;\n",
       "    var timer = setInterval(function(root) {\n",
       "      if (root.Bokeh !== undefined) {\n",
       "        embed_document(root);\n",
       "        clearInterval(timer);\n",
       "      }\n",
       "      attempts++;\n",
       "      if (attempts > 100) {\n",
       "        console.log(\"Bokeh: ERROR: Unable to run BokehJS code because BokehJS library is missing\")\n",
       "        clearInterval(timer);\n",
       "      }\n",
       "    }, 10, root)\n",
       "  }\n",
       "})(window);"
      ],
      "application/vnd.bokehjs_exec.v0+json": ""
     },
     "metadata": {
      "application/vnd.bokehjs_exec.v0+json": {
       "id": "83668d58-43c9-4d87-ba9c-e76d931914f6"
      }
     },
     "output_type": "display_data"
    },
    {
     "data": {
      "text/plain": [
       "'\"\\nscores1df = scores1.to_frame()\\nscores1df[\"Color\"] = 1\\n\\nscores2df = scores2.to_frame()\\nscores2df[\"Color\"] = 2\\n\\nscores = [scores1df, scores2df]\\nscoresAll = pd.concat(scores)\\n\\np4 = figure(title=\"Distribution of MAPK3 Scores\", tools = \"save\", x_range=(0,3), y_range=(0,1))\\n\\nhistAll, edgesAll = np.histogram(scoresAll, color=\"Color\")\\n\\np4.quad(top = histAll/max(histAll),\\n       bottom = 0,\\n       left = edgesAll[1:],\\n       right = edgesAll[:-1])\\n\\nshow(histAll)\\n#print(\"CSNK1A1 KS pValue: \" + str(stats.ks_2samp(scores1, scores2)[1]))\\n\\nhist4 = Histogram(df, values=\\'hp\\', color=\\'cyl\\',\\n                  title=\"df, values=\\'hp\\', color=\\'cyl\\'\", legend=\\'top_right\\')\\n'"
      ]
     },
     "execution_count": 131,
     "metadata": {},
     "output_type": "execute_result"
    }
   ],
   "source": [
    "# Plot histogram of MAPK3 MIC Main Effect Scores\n",
    "\n",
    "p = figure(title=\"Distribution of MAPK3 Scores in MIC Main Effect\", tools = [\"save\",\"zoom_in\"], x_range =(0,3), y_range=(0,1))\n",
    "\n",
    "scores1 = networkin_out_MAPK3_MICMainEffect[\"NetworKIN score\"][networkin_out_MAPK3_MICMainEffect[\"NetworKIN score\"] < 3]\n",
    "print(max(scores1))\n",
    "#scores1 = networkin_out_CSNK1A1_MICMainEffect[\"NetworKIN score\"]\n",
    "#print(len(scores1))\n",
    "scores1_filter = scores1[scores1>0.1]\n",
    "print(len(scores1_filter))\n",
    "#print(scores1_filter)\n",
    "hist1, edges1 = np.histogram(scores1_filter, density=True, bins = 300)\n",
    "\n",
    "cdf1 = np.cumsum(hist1)\n",
    "\n",
    "p.quad(top = hist1/max(hist1),\n",
    "       bottom=0, \n",
    "       left=edges1[1:], \n",
    "       right=edges1[:-1],\n",
    "       fill_color=\"#036564\", \n",
    "       line_color=\"#033649\")\n",
    "p.line(edges1[1:], cdf1/cdf1[-1])\n",
    "\n",
    "print(\"CDF1[-1]: {}\".format(cdf1[-1]))\n",
    "\n",
    "#print((cdf1/cdf1[-1])[250])\n",
    "\n",
    "p2 = figure(title=\"Distribution of All MAPK3 Scores\", tools = \"save\", x_range=(0,3), y_range=(0,1))#,output_backend = \"svg\")\n",
    "#p2.output_backend = \"svg\"\n",
    "scores2 = networkin_out_MAPK3[\"NetworKIN score\"][networkin_out_MAPK3[\"NetworKIN score\"] <3]\n",
    "#scores2 = networkin_out_CSNK1A1[\"NetworKIN score\"]\n",
    "\n",
    "hist2, edges2 = np.histogram(scores2[scores2>0.1], density = True, bins = 300)\n",
    "\n",
    "cdf2 = np.cumsum(hist2)\n",
    "\n",
    "p2.quad(top = hist2 / max(hist2),\n",
    "       bottom = 0,\n",
    "       left = edges2[1:],\n",
    "       right = edges2[:-1],\n",
    "       fill_color=\"#036564\", \n",
    "       line_color=\"red\",\n",
    "       alpha=0.5)\n",
    "p2.line(edges2[1:], cdf2/cdf2[-1])\n",
    "\n",
    "p2.quad(top = hist1/max(hist1),\n",
    "       bottom=0, \n",
    "       left=edges1[1:], \n",
    "       right=edges1[:-1],\n",
    "       fill_color=\"#FF0000\", \n",
    "       line_color=\"#033649\",\n",
    "       alpha = 0.5)\n",
    "p2.line(edges1[1:], cdf1/cdf1[-1], color=\"red\")\n",
    "\n",
    "print(\"CDF2[-1]: {}\".format(cdf2[-1]))\n",
    "print(max(scores2))\n",
    "p2.output_backend = \"svg\"\n",
    "\n",
    "p3 = figure(title=\"Overlayed CDFs\", tools = \"save\", x_range=(0,3), y_range=(0,1))\n",
    "\n",
    "p3.line(edges1[1:], cdf1/cdf1[-1], color = \"blue\")\n",
    "p3.line(edges2[1:], cdf2/cdf2[-1], color = \"red\")\n",
    "\n",
    "#show(gridplot(p,p2,p3, ncols=2, plot_width=300, plot_height=300))\n",
    "\n",
    "#show(p)\n",
    "#show(p2)\n",
    "\n",
    "#print(\"Average scores 1:%s\"%np.mean(scores1))\n",
    "#print(\"Average scores 2:%s\"%np.mean(scores2))\n",
    "\n",
    "#p.output_backend = \"svg\"\n",
    "\n",
    "#export_svgs(p, filename=\"MAPK3_MICMainEffect.svg\")\n",
    "export_svgs(p2, filename=\"MAPK3_AllSitesVSMICMainEffect.svg\")\n",
    "\n",
    "\n",
    "#Overlayed Histograms\n",
    "show(p2)\n",
    "\n",
    "\"\"\"\"\n",
    "scores1df = scores1.to_frame()\n",
    "scores1df[\"Color\"] = 1\n",
    "\n",
    "scores2df = scores2.to_frame()\n",
    "scores2df[\"Color\"] = 2\n",
    "\n",
    "scores = [scores1df, scores2df]\n",
    "scoresAll = pd.concat(scores)\n",
    "\n",
    "p4 = figure(title=\"Distribution of MAPK3 Scores\", tools = \"save\", x_range=(0,3), y_range=(0,1))\n",
    "\n",
    "histAll, edgesAll = np.histogram(scoresAll, color=\"Color\")\n",
    "\n",
    "p4.quad(top = histAll/max(histAll),\n",
    "       bottom = 0,\n",
    "       left = edgesAll[1:],\n",
    "       right = edgesAll[:-1])\n",
    "\n",
    "show(histAll)\n",
    "#print(\"CSNK1A1 KS pValue: \" + str(stats.ks_2samp(scores1, scores2)[1]))\n",
    "\n",
    "hist4 = Histogram(df, values='hp', color='cyl',\n",
    "                  title=\"df, values='hp', color='cyl'\", legend='top_right')\n",
    "\"\"\""
   ]
  },
  {
   "cell_type": "code",
   "execution_count": null,
   "metadata": {},
   "outputs": [],
   "source": [
    "# Plot histogram of MAPK3 MIC Main Effect Scores - With ColumnDataSource\n",
    "\n",
    "p = figure(title=\"Distribution of MAPK3 Scores in MIC Main Effect\", tools = [\"save\",\"zoom_in\"], x_range =(0,3), y_range=(0,1))\n",
    "\n",
    "scores1 = networkin_out_MAPK3_MICMainEffect[\"NetworKIN score\"][networkin_out_MAPK3_MICMainEffect[\"NetworKIN score\"] < 3]\n",
    "print(max(scores1))\n",
    "#scores1 = networkin_out_CSNK1A1_MICMainEffect[\"NetworKIN score\"]\n",
    "#print(len(scores1))\n",
    "scores1_filter = scores1[scores1>0.1]\n",
    "print(len(scores1_filter))\n",
    "#print(scores1_filter)\n",
    "hist1, edges1 = np.histogram(scores1_filter, density=True, bins = 300)\n",
    "\n",
    "\n",
    "\n",
    "\n",
    "source = ColumnDataSource \n",
    "\n",
    "cdf1 = np.cumsum(hist1)\n",
    "\n",
    "p.quad(top = hist1/max(hist1),\n",
    "       bottom=0, \n",
    "       left=edges1[1:], \n",
    "       right=edges1[:-1],\n",
    "       fill_color=\"#036564\", \n",
    "       line_color=\"#033649\")\n",
    "p.line(edges1[1:], cdf1/cdf1[-1])\n",
    "\n",
    "print(\"CDF1[-1]: {}\".format(cdf1[-1]))\n",
    "\n",
    "#print((cdf1/cdf1[-1])[250])\n",
    "\n",
    "p2 = figure(title=\"Distribution of All MAPK3 Scores\", tools = \"save\", x_range=(0,3), y_range=(0,1))#,output_backend = \"svg\")\n",
    "#p2.output_backend = \"svg\"\n",
    "scores2 = networkin_out_MAPK3[\"NetworKIN score\"][networkin_out_MAPK3[\"NetworKIN score\"] <3]\n",
    "#scores2 = networkin_out_CSNK1A1[\"NetworKIN score\"]\n",
    "\n",
    "hist2, edges2 = np.histogram(scores2[scores2>0.1], density = True, bins = 300)\n",
    "\n",
    "cdf2 = np.cumsum(hist2)\n",
    "\n",
    "p2.quad(top = hist2 / max(hist2),\n",
    "       bottom = 0,\n",
    "       left = edges2[1:],\n",
    "       right = edges2[:-1],\n",
    "       fill_color=\"#036564\", \n",
    "       line_color=\"red\",\n",
    "       alpha=0.5)\n",
    "p2.line(edges2[1:], cdf2/cdf2[-1])\n",
    "\n",
    "p2.quad(top = hist1/max(hist1),\n",
    "       bottom=0, \n",
    "       left=edges1[1:], \n",
    "       right=edges1[:-1],\n",
    "       fill_color=\"#FF0000\", \n",
    "       line_color=\"#033649\",\n",
    "       alpha = 0.5)\n",
    "p2.line(edges1[1:], cdf1/cdf1[-1], color=\"red\")\n",
    "\n",
    "print(\"CDF2[-1]: {}\".format(cdf2[-1]))\n",
    "print(max(scores2))\n",
    "p2.output_backend = \"svg\"\n",
    "\n",
    "p3 = figure(title=\"Overlayed CDFs\", tools = \"save\", x_range=(0,3), y_range=(0,1))\n",
    "\n",
    "p3.line(edges1[1:], cdf1/cdf1[-1], color = \"blue\")\n",
    "p3.line(edges2[1:], cdf2/cdf2[-1], color = \"red\")\n",
    "\n",
    "#show(gridplot(p,p2,p3, ncols=2, plot_width=300, plot_height=300))\n",
    "\n",
    "#show(p)\n",
    "#show(p2)\n",
    "\n",
    "#print(\"Average scores 1:%s\"%np.mean(scores1))\n",
    "#print(\"Average scores 2:%s\"%np.mean(scores2))\n",
    "\n",
    "#p.output_backend = \"svg\"\n",
    "\n",
    "#export_svgs(p, filename=\"MAPK3_MICMainEffect.svg\")\n",
    "export_svgs(p2, filename=\"MAPK3_AllSitesVSMICMainEffect.svg\")\n",
    "\n",
    "\n",
    "#Overlayed Histograms\n",
    "show(p2)\n"
   ]
  },
  {
   "cell_type": "code",
   "execution_count": null,
   "metadata": {},
   "outputs": [],
   "source": []
  },
  {
   "cell_type": "code",
   "execution_count": 135,
   "metadata": {},
   "outputs": [
    {
     "name": "stdout",
     "output_type": "stream",
     "text": [
      "2.1876\n",
      "481\n",
      "CDF1[-1]: 143.74011786689658\n"
     ]
    },
    {
     "data": {
      "text/html": [
       "\n",
       "\n",
       "\n",
       "\n",
       "\n",
       "\n",
       "  <div class=\"bk-root\" id=\"0b6f6f82-c381-4461-aff3-a05fd6bdfb96\"></div>\n"
      ]
     },
     "metadata": {},
     "output_type": "display_data"
    },
    {
     "data": {
      "application/javascript": [
       "(function(root) {\n",
       "  function embed_document(root) {\n",
       "    \n",
       "  var docs_json = {\"359992c9-d909-4a09-bcad-fa1707dd8410\":{\"roots\":{\"references\":[{\"attributes\":{},\"id\":\"2060b4d2-942d-4e80-9512-1faeaa2c379c\",\"type\":\"LinearScale\"},{\"attributes\":{\"source\":{\"id\":\"28b48e86-9625-4b88-85ec-2eaa9825efe5\",\"type\":\"ColumnDataSource\"}},\"id\":\"e43e60b3-57c7-42aa-8db0-00b9e509af0b\",\"type\":\"CDSView\"},{\"attributes\":{},\"id\":\"be7ff115-9cca-4a77-9c50-b9115c026638\",\"type\":\"UnionRenderers\"},{\"attributes\":{},\"id\":\"36a47566-bab4-4f87-80b0-3d090d65d7e6\",\"type\":\"SaveTool\"},{\"attributes\":{\"bottom\":{\"value\":0},\"fill_alpha\":{\"value\":0.5},\"fill_color\":{\"value\":\"#036564\"},\"left\":{\"field\":\"left\"},\"line_alpha\":{\"value\":0.5},\"line_color\":{\"value\":\"#033649\"},\"right\":{\"field\":\"right\"},\"top\":{\"field\":\"top\"}},\"id\":\"a3f3bfb0-7e13-42a9-98ba-01de6ebae24f\",\"type\":\"Quad\"},{\"attributes\":{\"callback\":null},\"id\":\"c7be3c8e-3cd7-48d2-9bdd-4e2734aec9d7\",\"type\":\"Range1d\"},{\"attributes\":{\"bottom\":{\"value\":0},\"fill_alpha\":{\"value\":0.1},\"fill_color\":{\"value\":\"#1f77b4\"},\"left\":{\"field\":\"left\"},\"line_alpha\":{\"value\":0.1},\"line_color\":{\"value\":\"#1f77b4\"},\"right\":{\"field\":\"right\"},\"top\":{\"field\":\"top\"}},\"id\":\"e896e334-203b-41b3-a5a5-314fc4e9cf2a\",\"type\":\"Quad\"},{\"attributes\":{\"formatter\":{\"id\":\"736337db-93b3-460f-b1f3-dc9f954342d7\",\"type\":\"BasicTickFormatter\"},\"plot\":{\"id\":\"b313568b-4d6f-41fe-89e6-13e729c2ec3d\",\"subtype\":\"Figure\",\"type\":\"Plot\"},\"ticker\":{\"id\":\"7ea1c09d-a339-4c3d-a33b-703a4af70c9a\",\"type\":\"BasicTicker\"}},\"id\":\"dc83bb53-842e-40bc-9456-7ba84d8513fc\",\"type\":\"LinearAxis\"},{\"attributes\":{\"bottom\":{\"value\":0},\"fill_alpha\":{\"value\":0.1},\"fill_color\":{\"value\":\"#1f77b4\"},\"left\":{\"field\":\"left\"},\"line_alpha\":{\"value\":0.1},\"line_color\":{\"value\":\"#1f77b4\"},\"right\":{\"field\":\"right\"},\"top\":{\"field\":\"top\"}},\"id\":\"0fe91042-22d3-4ea7-9e69-4d4b30ccd656\",\"type\":\"Quad\"},{\"attributes\":{\"bottom\":{\"value\":0},\"fill_alpha\":{\"value\":0.5},\"fill_color\":{\"value\":\"red\"},\"left\":{\"field\":\"left\"},\"line_alpha\":{\"value\":0.5},\"line_color\":{\"value\":\"red\"},\"right\":{\"field\":\"right\"},\"top\":{\"field\":\"top\"}},\"id\":\"402b0c39-ed1e-4191-a2c3-64fd0e0d44f0\",\"type\":\"Quad\"},{\"attributes\":{},\"id\":\"b53be75e-e953-455d-ae15-81293c32ed66\",\"type\":\"UnionRenderers\"},{\"attributes\":{},\"id\":\"7ea1c09d-a339-4c3d-a33b-703a4af70c9a\",\"type\":\"BasicTicker\"},{\"attributes\":{\"plot\":{\"id\":\"b313568b-4d6f-41fe-89e6-13e729c2ec3d\",\"subtype\":\"Figure\",\"type\":\"Plot\"},\"ticker\":{\"id\":\"7ea1c09d-a339-4c3d-a33b-703a4af70c9a\",\"type\":\"BasicTicker\"}},\"id\":\"508e68d0-e4a1-4ba4-800c-abfc9d544d69\",\"type\":\"Grid\"},{\"attributes\":{\"source\":{\"id\":\"ae7e838c-6f49-45e2-9812-d2b437b824ac\",\"type\":\"ColumnDataSource\"}},\"id\":\"ec4c57fc-c3b8-442e-a15c-62e42d76becc\",\"type\":\"CDSView\"},{\"attributes\":{\"data_source\":{\"id\":\"07d7c559-00b4-4da3-9e66-cede52a60ee3\",\"type\":\"ColumnDataSource\"},\"glyph\":{\"id\":\"402b0c39-ed1e-4191-a2c3-64fd0e0d44f0\",\"type\":\"Quad\"},\"hover_glyph\":null,\"muted_glyph\":null,\"nonselection_glyph\":{\"id\":\"0fe91042-22d3-4ea7-9e69-4d4b30ccd656\",\"type\":\"Quad\"},\"selection_glyph\":null,\"view\":{\"id\":\"f6c927ae-ee1e-4bb5-bda3-dbaf1f71717c\",\"type\":\"CDSView\"}},\"id\":\"a78d8fb0-f048-4cb8-aba0-b69bec07816f\",\"type\":\"GlyphRenderer\"},{\"attributes\":{},\"id\":\"264a7fef-7dc5-4f44-83e5-b7c8c85ccae5\",\"type\":\"LinearScale\"},{\"attributes\":{},\"id\":\"faa39630-88bf-43e0-b0a5-935373e18575\",\"type\":\"BasicTickFormatter\"},{\"attributes\":{\"source\":{\"id\":\"07d7c559-00b4-4da3-9e66-cede52a60ee3\",\"type\":\"ColumnDataSource\"}},\"id\":\"f6c927ae-ee1e-4bb5-bda3-dbaf1f71717c\",\"type\":\"CDSView\"},{\"attributes\":{},\"id\":\"e1fa0772-247d-4cfa-8f53-201969a177ca\",\"type\":\"Selection\"},{\"attributes\":{\"data_source\":{\"id\":\"ae7e838c-6f49-45e2-9812-d2b437b824ac\",\"type\":\"ColumnDataSource\"},\"glyph\":{\"id\":\"a3f3bfb0-7e13-42a9-98ba-01de6ebae24f\",\"type\":\"Quad\"},\"hover_glyph\":null,\"muted_glyph\":null,\"nonselection_glyph\":{\"id\":\"e896e334-203b-41b3-a5a5-314fc4e9cf2a\",\"type\":\"Quad\"},\"selection_glyph\":null,\"view\":{\"id\":\"ec4c57fc-c3b8-442e-a15c-62e42d76becc\",\"type\":\"CDSView\"}},\"id\":\"b552d6c8-3a33-42cf-ad18-71411c2b5849\",\"type\":\"GlyphRenderer\"},{\"attributes\":{\"callback\":null,\"end\":3},\"id\":\"f320deae-32e1-4f28-83cb-8e3c54d7df0c\",\"type\":\"Range1d\"},{\"attributes\":{\"line_color\":\"red\",\"x\":{\"field\":\"x\"},\"y\":{\"field\":\"y\"}},\"id\":\"286a0220-6333-4f51-853c-6ca4b285b493\",\"type\":\"Line\"},{\"attributes\":{\"data_source\":{\"id\":\"28b48e86-9625-4b88-85ec-2eaa9825efe5\",\"type\":\"ColumnDataSource\"},\"glyph\":{\"id\":\"286a0220-6333-4f51-853c-6ca4b285b493\",\"type\":\"Line\"},\"hover_glyph\":null,\"muted_glyph\":null,\"nonselection_glyph\":{\"id\":\"94f8ef6c-40c4-4fa5-83a2-43ac3f3cf04b\",\"type\":\"Line\"},\"selection_glyph\":null,\"view\":{\"id\":\"e43e60b3-57c7-42aa-8db0-00b9e509af0b\",\"type\":\"CDSView\"}},\"id\":\"acbe3507-b302-4f5e-89d6-f4b1c96051b1\",\"type\":\"GlyphRenderer\"},{\"attributes\":{\"line_alpha\":0.1,\"line_color\":\"#1f77b4\",\"x\":{\"field\":\"x\"},\"y\":{\"field\":\"y\"}},\"id\":\"1499f6bb-704c-4bca-8c34-46c2d7efe041\",\"type\":\"Line\"},{\"attributes\":{},\"id\":\"f89b1de5-a42b-4b5d-87d7-c0fbd2dcd7c4\",\"type\":\"UnionRenderers\"},{\"attributes\":{\"line_color\":\"#1f77b4\",\"x\":{\"field\":\"x\"},\"y\":{\"field\":\"y\"}},\"id\":\"fc950979-6d93-44c8-98a7-3bda5b381727\",\"type\":\"Line\"},{\"attributes\":{},\"id\":\"ec47d6b0-9d9e-4448-bb33-c9b94d599474\",\"type\":\"Selection\"},{\"attributes\":{\"formatter\":{\"id\":\"faa39630-88bf-43e0-b0a5-935373e18575\",\"type\":\"BasicTickFormatter\"},\"plot\":{\"id\":\"b313568b-4d6f-41fe-89e6-13e729c2ec3d\",\"subtype\":\"Figure\",\"type\":\"Plot\"},\"ticker\":{\"id\":\"6e757c8b-94e4-4ca2-b5c4-7e8d235b6e92\",\"type\":\"BasicTicker\"}},\"id\":\"6e899ba7-259a-4d85-8ae2-485843e4926e\",\"type\":\"LinearAxis\"},{\"attributes\":{\"plot\":null,\"text\":\"Distribution of All CSNK1A1 Scores\"},\"id\":\"ddb9a2be-aeb1-4992-8bee-8dbe2c5d1a7e\",\"type\":\"Title\"},{\"attributes\":{},\"id\":\"62d3ccc0-9603-4ea3-bb70-293461d2d8e3\",\"type\":\"UnionRenderers\"},{\"attributes\":{\"dimension\":1,\"plot\":{\"id\":\"b313568b-4d6f-41fe-89e6-13e729c2ec3d\",\"subtype\":\"Figure\",\"type\":\"Plot\"},\"ticker\":{\"id\":\"6e757c8b-94e4-4ca2-b5c4-7e8d235b6e92\",\"type\":\"BasicTicker\"}},\"id\":\"90980528-318b-4b96-be72-84bc0b1719ee\",\"type\":\"Grid\"},{\"attributes\":{\"callback\":null,\"data\":{\"x\":{\"__ndarray__\":\"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\",\"dtype\":\"float64\",\"shape\":[300]},\"y\":{\"__ndarray__\":\"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\",\"dtype\":\"float64\",\"shape\":[300]}},\"selected\":{\"id\":\"e1fa0772-247d-4cfa-8f53-201969a177ca\",\"type\":\"Selection\"},\"selection_policy\":{\"id\":\"be7ff115-9cca-4a77-9c50-b9115c026638\",\"type\":\"UnionRenderers\"}},\"id\":\"28b48e86-9625-4b88-85ec-2eaa9825efe5\",\"type\":\"ColumnDataSource\"},{\"attributes\":{\"callback\":null,\"data\":{\"left\":{\"__ndarray__\":\"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\",\"dtype\":\"float64\",\"shape\":[300]},\"right\":{\"__ndarray__\":\"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\",\"dtype\":\"float64\",\"shape\":[300]},\"top\":{\"__ndarray__\":\"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\",\"dtype\":\"float64\",\"shape\":[300]}},\"selected\":{\"id\":\"8c649fb8-4576-4c77-b1b2-27640070f92b\",\"type\":\"Selection\"},\"selection_policy\":{\"id\":\"62d3ccc0-9603-4ea3-bb70-293461d2d8e3\",\"type\":\"UnionRenderers\"}},\"id\":\"07d7c559-00b4-4da3-9e66-cede52a60ee3\",\"type\":\"ColumnDataSource\"},{\"attributes\":{},\"id\":\"6e757c8b-94e4-4ca2-b5c4-7e8d235b6e92\",\"type\":\"BasicTicker\"},{\"attributes\":{},\"id\":\"0e7e82c1-f477-4112-8b3b-53e18213ae36\",\"type\":\"Selection\"},{\"attributes\":{\"line_alpha\":0.1,\"line_color\":\"#1f77b4\",\"x\":{\"field\":\"x\"},\"y\":{\"field\":\"y\"}},\"id\":\"94f8ef6c-40c4-4fa5-83a2-43ac3f3cf04b\",\"type\":\"Line\"},{\"attributes\":{\"below\":[{\"id\":\"dc83bb53-842e-40bc-9456-7ba84d8513fc\",\"type\":\"LinearAxis\"}],\"left\":[{\"id\":\"6e899ba7-259a-4d85-8ae2-485843e4926e\",\"type\":\"LinearAxis\"}],\"output_backend\":\"svg\",\"renderers\":[{\"id\":\"dc83bb53-842e-40bc-9456-7ba84d8513fc\",\"type\":\"LinearAxis\"},{\"id\":\"508e68d0-e4a1-4ba4-800c-abfc9d544d69\",\"type\":\"Grid\"},{\"id\":\"6e899ba7-259a-4d85-8ae2-485843e4926e\",\"type\":\"LinearAxis\"},{\"id\":\"90980528-318b-4b96-be72-84bc0b1719ee\",\"type\":\"Grid\"},{\"id\":\"b552d6c8-3a33-42cf-ad18-71411c2b5849\",\"type\":\"GlyphRenderer\"},{\"id\":\"acbe3507-b302-4f5e-89d6-f4b1c96051b1\",\"type\":\"GlyphRenderer\"},{\"id\":\"a78d8fb0-f048-4cb8-aba0-b69bec07816f\",\"type\":\"GlyphRenderer\"},{\"id\":\"76ed3953-2187-4809-b333-49f96521059e\",\"type\":\"GlyphRenderer\"}],\"title\":{\"id\":\"ddb9a2be-aeb1-4992-8bee-8dbe2c5d1a7e\",\"type\":\"Title\"},\"toolbar\":{\"id\":\"2eacecc1-c4be-4e11-a13a-79a04137e591\",\"type\":\"Toolbar\"},\"x_range\":{\"id\":\"f320deae-32e1-4f28-83cb-8e3c54d7df0c\",\"type\":\"Range1d\"},\"x_scale\":{\"id\":\"264a7fef-7dc5-4f44-83e5-b7c8c85ccae5\",\"type\":\"LinearScale\"},\"y_range\":{\"id\":\"c7be3c8e-3cd7-48d2-9bdd-4e2734aec9d7\",\"type\":\"Range1d\"},\"y_scale\":{\"id\":\"2060b4d2-942d-4e80-9512-1faeaa2c379c\",\"type\":\"LinearScale\"}},\"id\":\"b313568b-4d6f-41fe-89e6-13e729c2ec3d\",\"subtype\":\"Figure\",\"type\":\"Plot\"},{\"attributes\":{\"callback\":null,\"data\":{\"left\":{\"__ndarray__\":\"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\",\"dtype\":\"float64\",\"shape\":[300]},\"right\":{\"__ndarray__\":\"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\",\"dtype\":\"float64\",\"shape\":[300]},\"top\":{\"__ndarray__\":\"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\",\"dtype\":\"float64\",\"shape\":[300]}},\"selected\":{\"id\":\"0e7e82c1-f477-4112-8b3b-53e18213ae36\",\"type\":\"Selection\"},\"selection_policy\":{\"id\":\"b53be75e-e953-455d-ae15-81293c32ed66\",\"type\":\"UnionRenderers\"}},\"id\":\"ae7e838c-6f49-45e2-9812-d2b437b824ac\",\"type\":\"ColumnDataSource\"},{\"attributes\":{\"active_drag\":\"auto\",\"active_inspect\":\"auto\",\"active_multi\":null,\"active_scroll\":\"auto\",\"active_tap\":\"auto\",\"tools\":[{\"id\":\"36a47566-bab4-4f87-80b0-3d090d65d7e6\",\"type\":\"SaveTool\"}]},\"id\":\"2eacecc1-c4be-4e11-a13a-79a04137e591\",\"type\":\"Toolbar\"},{\"attributes\":{\"data_source\":{\"id\":\"737af976-a954-4f70-8989-78739d386948\",\"type\":\"ColumnDataSource\"},\"glyph\":{\"id\":\"fc950979-6d93-44c8-98a7-3bda5b381727\",\"type\":\"Line\"},\"hover_glyph\":null,\"muted_glyph\":null,\"nonselection_glyph\":{\"id\":\"1499f6bb-704c-4bca-8c34-46c2d7efe041\",\"type\":\"Line\"},\"selection_glyph\":null,\"view\":{\"id\":\"65a0f51a-4c02-44fb-9e44-647ac37dcfb7\",\"type\":\"CDSView\"}},\"id\":\"76ed3953-2187-4809-b333-49f96521059e\",\"type\":\"GlyphRenderer\"},{\"attributes\":{\"callback\":null,\"data\":{\"x\":{\"__ndarray__\":\"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\",\"dtype\":\"float64\",\"shape\":[300]},\"y\":{\"__ndarray__\":\"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\",\"dtype\":\"float64\",\"shape\":[300]}},\"selected\":{\"id\":\"ec47d6b0-9d9e-4448-bb33-c9b94d599474\",\"type\":\"Selection\"},\"selection_policy\":{\"id\":\"f89b1de5-a42b-4b5d-87d7-c0fbd2dcd7c4\",\"type\":\"UnionRenderers\"}},\"id\":\"737af976-a954-4f70-8989-78739d386948\",\"type\":\"ColumnDataSource\"},{\"attributes\":{},\"id\":\"736337db-93b3-460f-b1f3-dc9f954342d7\",\"type\":\"BasicTickFormatter\"},{\"attributes\":{\"source\":{\"id\":\"737af976-a954-4f70-8989-78739d386948\",\"type\":\"ColumnDataSource\"}},\"id\":\"65a0f51a-4c02-44fb-9e44-647ac37dcfb7\",\"type\":\"CDSView\"},{\"attributes\":{},\"id\":\"8c649fb8-4576-4c77-b1b2-27640070f92b\",\"type\":\"Selection\"}],\"root_ids\":[\"b313568b-4d6f-41fe-89e6-13e729c2ec3d\"]},\"title\":\"Bokeh Application\",\"version\":\"0.13.0\"}};\n",
       "  var render_items = [{\"docid\":\"359992c9-d909-4a09-bcad-fa1707dd8410\",\"roots\":{\"b313568b-4d6f-41fe-89e6-13e729c2ec3d\":\"0b6f6f82-c381-4461-aff3-a05fd6bdfb96\"}}];\n",
       "  root.Bokeh.embed.embed_items_notebook(docs_json, render_items);\n",
       "\n",
       "  }\n",
       "  if (root.Bokeh !== undefined) {\n",
       "    embed_document(root);\n",
       "  } else {\n",
       "    var attempts = 0;\n",
       "    var timer = setInterval(function(root) {\n",
       "      if (root.Bokeh !== undefined) {\n",
       "        embed_document(root);\n",
       "        clearInterval(timer);\n",
       "      }\n",
       "      attempts++;\n",
       "      if (attempts > 100) {\n",
       "        console.log(\"Bokeh: ERROR: Unable to run BokehJS code because BokehJS library is missing\")\n",
       "        clearInterval(timer);\n",
       "      }\n",
       "    }, 10, root)\n",
       "  }\n",
       "})(window);"
      ],
      "application/vnd.bokehjs_exec.v0+json": ""
     },
     "metadata": {
      "application/vnd.bokehjs_exec.v0+json": {
       "id": "b313568b-4d6f-41fe-89e6-13e729c2ec3d"
      }
     },
     "output_type": "display_data"
    },
    {
     "name": "stderr",
     "output_type": "stream",
     "text": [
      "WARNING:bokeh.core.validation.check:W-1004 (BOTH_CHILD_AND_ROOT): Models should not be a document root if they are in a layout box: Figure(id='6a67a21b-dd27-4d95-bba7-72ad472fa4e4', ...), Figure(id='2120e67a-4a50-40d2-8a1c-5031a0bc6b89', ...)\n",
      "WARNING:bokeh.core.validation.check:W-1004 (BOTH_CHILD_AND_ROOT): Models should not be a document root if they are in a layout box: Figure(id='13fbdfe8-fa30-4a09-b6f9-131ab7668fff', ...), Figure(id='26e139c8-9f74-4051-8032-07b55ee5e0b2', ...)\n"
     ]
    },
    {
     "name": "stdout",
     "output_type": "stream",
     "text": [
      "Average scores 1:0.2902014598540146\n",
      "Average scores 2:0.3216140688926997\n",
      "CSNK1A1 KS pValue: 0.01671167501369561\n"
     ]
    }
   ],
   "source": [
    "# Plot histogram of CSNK1A1 MIC Main Effect Scores\n",
    "\n",
    "p = figure(title=\"Distribution of CSNK1A1 Scores in MIC Main Effect\", tools = [\"save\",\"zoom_in\"], x_range =(0,3), y_range=(0,1))\n",
    "p.output_backend= \"svg\"\n",
    "scores1 = networkin_out_CSNK1A1_MICMainEffect[\"NetworKIN score\"][networkin_out_CSNK1A1_MICMainEffect[\"NetworKIN score\"] < 3]\n",
    "print(max(scores1))\n",
    "#scores1 = networkin_out_CSNK1A1_MICMainEffect[\"NetworKIN score\"]\n",
    "#print(len(scores1))\n",
    "scores1_filter = scores1[scores1>0.1]\n",
    "print(len(scores1_filter))\n",
    "#print(scores1_filter)\n",
    "hist1, edges1 = np.histogram(scores1_filter, density=True, bins = 300)\n",
    "\n",
    "cdf1 = np.cumsum(hist1)\n",
    "\n",
    "p.quad(top = hist1/max(hist1),\n",
    "       bottom=0, \n",
    "       left=edges1[1:], \n",
    "       right=edges1[:-1],\n",
    "       color=\"#036564\", \n",
    "       line_color=\"#033649\",\n",
    "      alpha=0.5)\n",
    "p.line(edges1[1:], cdf1/cdf1[-1])\n",
    "\n",
    "print(\"CDF1[-1]: {}\".format(cdf1[-1]))\n",
    "\n",
    "#print((cdf1/cdf1[-1])[250])\n",
    "\n",
    "p2 = figure(title=\"Distribution of All CSNK1A1 Scores\", tools = \"save\", x_range=(0,3), y_range=(0,1))\n",
    "\n",
    "scores2 = networkin_out_CSNK1A1[\"NetworKIN score\"][networkin_out_CSNK1A1[\"NetworKIN score\"] <3]\n",
    "#scores2 = networkin_out_CSNK1A1[\"NetworKIN score\"]\n",
    "\n",
    "hist2, edges2 = np.histogram(scores2[scores2>0.1], density = True, bins = 300)\n",
    "\n",
    "cdf2 = np.cumsum(hist2)\n",
    "\n",
    "p2.quad(top = hist2 / max(hist2),\n",
    "       bottom = 0,\n",
    "       left = edges2[1:],\n",
    "       right = edges2[:-1],\n",
    "       fill_color=\"#036564\", \n",
    "       line_color=\"#033649\",\n",
    "       alpha=0.5)\n",
    "p2.line(edges2[1:], cdf2/cdf2[-1], color = \"red\")\n",
    "\n",
    "p2.quad(top = hist1/max(hist1),\n",
    "       bottom=0, \n",
    "       left=edges1[1:], \n",
    "       right=edges1[:-1],\n",
    "       color=\"red\", \n",
    "       line_color=\"red\",\n",
    "      alpha=0.5)\n",
    "p2.line(edges1[1:], cdf1/cdf1[-1])\n",
    "\n",
    "p2.output_backend = \"svg\"\n",
    "\n",
    "#p3 = figure(title=\"Overlayed CDFs\", tools = \"save\", x_range=(0,3), y_range=(0,1))\n",
    "#p3.output_backend = \"svg\"\n",
    "#p3.line(edges1[1:], cdf1/cdf1[-1], color = \"blue\")\n",
    "#p3.line(edges2[1:], cdf2/cdf2[-1], color = \"red\")\n",
    "\n",
    "#show(p)\n",
    "show(p2)\n",
    "#show(p3)\n",
    "\n",
    "#export_svgs(p, filename=\"CSNK1A1_MICMainEffect.svg\")\n",
    "export_svgs(p2, filename = \"CSNK1A1_AllSitesVSMICMainEffect.svg\")\n",
    "\n",
    "\n",
    "print(\"Average scores 1:%s\"%np.mean(scores1))\n",
    "print(\"Average scores 2:%s\"%np.mean(scores2))\n",
    "\n",
    "print(\"CSNK1A1 KS pValue: \" + str(stats.ks_2samp(scores1, scores2)[1]))\n"
   ]
  },
  {
   "cell_type": "code",
   "execution_count": 111,
   "metadata": {},
   "outputs": [],
   "source": [
    "#Now let's do it for all kinases using the function below\n",
    "\n",
    "def generateSubsets(clusterName):\n",
    "    kinases = networkin_out[\"Kinase/Phosphatase/Phospho-binding domain\"].unique()\n",
    "    KS_values = {}\n",
    "    for kinase in kinases:\n",
    "        # Subset all kinase assignments\n",
    "        networkin_out_filteredForKinase = networkin_out.loc[networkin_out[\"Kinase/Phosphatase/Phospho-binding domain\"] == kinase]\n",
    "        # Subset assignments in the given group\n",
    "        group_IDS = groupAnnotations.loc[groupAnnotations[clusterName]==1]\n",
    "        # Subset all kinase assignments that are in group\n",
    "        networkin_out_FilteredKinase_byGroup = networkin_out_filteredForKinase[networkin_out_filteredForKinase[\"EnsemblID\"].isin(group_IDS[\"ENSEMBL74ID\"])]\n",
    "        # Scores for that kinase in all assignments\n",
    "        scores_All = networkin_out_filteredForKinase[\"NetworKIN score\"]\n",
    "        # Scores for that kinase in MIC Main Effect\n",
    "        scores_Group = networkin_out_FilteredKinase_byGroup[\"NetworKIN score\"]\n",
    "        # Perform KS Test if has values\n",
    "        if len(scores_All)> 0 and len(scores_Group) > 0:\n",
    "            KS_values[kinase] = [stats.ks_2samp(scores_All, scores_Group)[1], np.mean(scores_Group) - np.mean(scores_All)]\n",
    "    \n",
    "    \n",
    "    KS_return = pd.DataFrame.from_dict(KS_values, orient='index')\n",
    "    KS_return.columns = [\"p\",\"Delta Average Score\"]\n",
    "    \n",
    "    reject, pvals_corrected, alphacSidak, alphacBonf = multipletests(KS_return[\"p\"], alpha=0.05, method='fdr_bh')\n",
    "    KS_return[\"q_BH\"] = pvals_corrected\n",
    "    KS_return[\"Reject\"] = reject\n",
    "   \n",
    "    return KS_return\n",
    "\n",
    "    \n",
    "\n"
   ]
  },
  {
   "cell_type": "code",
   "execution_count": 112,
   "metadata": {},
   "outputs": [],
   "source": [
    "KS_MIC_MainEffect_UpReg = generateSubsets(\"HasKinase_MIC_MainEffect_((VEC+REC)-(VC+RC))>0\")"
   ]
  },
  {
   "cell_type": "code",
   "execution_count": 113,
   "metadata": {},
   "outputs": [],
   "source": [
    "KS_MIC_MainEffect_UpReg.to_csv(\"KS_MIC_MainEffect_UpReg.csv\")"
   ]
  },
  {
   "cell_type": "code",
   "execution_count": 114,
   "metadata": {},
   "outputs": [],
   "source": [
    "KS_MIC_MainEffect_DownReg = generateSubsets(\"HasKinase_MIC_MainEffect_((VEC+REC)-(VC+RC))<0\")"
   ]
  },
  {
   "cell_type": "code",
   "execution_count": 116,
   "metadata": {},
   "outputs": [],
   "source": [
    "KS_MIC_MainEffect_DownReg.to_csv(\"KS_MIC_MainEffect_DownReg.csv\")"
   ]
  },
  {
   "cell_type": "code",
   "execution_count": 117,
   "metadata": {},
   "outputs": [],
   "source": [
    "KS_RAP_MainEffect_UpReg = generateSubsets(\"HasKinase_ RAP_MainEffect_((RC+REC)-(VC+VEC))>0\")"
   ]
  },
  {
   "cell_type": "code",
   "execution_count": 118,
   "metadata": {},
   "outputs": [],
   "source": [
    "KS_RAP_MainEffect_UpReg.to_csv(\"KS_RAP_MainEffect_UpReg.csv\")"
   ]
  },
  {
   "cell_type": "code",
   "execution_count": 119,
   "metadata": {},
   "outputs": [],
   "source": [
    "KS_Rap_MainEffect_DownReg = generateSubsets(\"HasKinase_ RAP_MainEffect_((RC+REC)-(VC+VEC))<0\")"
   ]
  },
  {
   "cell_type": "code",
   "execution_count": 120,
   "metadata": {},
   "outputs": [],
   "source": [
    "KS_Rap_MainEffect_DownReg.to_csv(\"KS_Rap_MainEffect_DownReg.csv\")"
   ]
  },
  {
   "cell_type": "code",
   "execution_count": 121,
   "metadata": {},
   "outputs": [],
   "source": [
    "KS_Interaction_UpReg = generateSubsets(\"HasKinase_Interaction_VEC>0\")"
   ]
  },
  {
   "cell_type": "code",
   "execution_count": 122,
   "metadata": {},
   "outputs": [],
   "source": [
    "KS_Interaction_UpReg.to_csv(\"KS_Interaction_UpReg.csv\")"
   ]
  },
  {
   "cell_type": "code",
   "execution_count": 123,
   "metadata": {},
   "outputs": [],
   "source": [
    "KS_Interaction_DownReg = generateSubsets(\"HasKinase_Interaction_VEC<0\")"
   ]
  },
  {
   "cell_type": "code",
   "execution_count": 124,
   "metadata": {},
   "outputs": [],
   "source": [
    "KS_Interaction_DownReg.to_csv(\"KS_Interaction_DownReg.csv\")"
   ]
  },
  {
   "cell_type": "code",
   "execution_count": 122,
   "metadata": {},
   "outputs": [
    {
     "data": {
      "text/html": [
       "\n",
       "\n",
       "\n",
       "\n",
       "\n",
       "\n",
       "  <div class=\"bk-root\" id=\"fa367ce7-d190-4e36-9356-0e6325537b40\"></div>\n"
      ]
     },
     "metadata": {},
     "output_type": "display_data"
    },
    {
     "data": {
      "application/javascript": [
       "(function(root) {\n",
       "  function embed_document(root) {\n",
       "    \n",
       "  var docs_json = {\"8a62ed7d-65d6-4da8-ab17-e7d463f9bbd1\":{\"roots\":{\"references\":[{\"attributes\":{},\"id\":\"ea6fc075-ac1e-42cb-9f82-0e83903cc24c\",\"type\":\"BasicTicker\"},{\"attributes\":{\"below\":[{\"id\":\"b55e17cf-57ba-44d3-90d8-ecfe422a16e1\",\"type\":\"LinearAxis\"}],\"left\":[{\"id\":\"8daf200a-1897-4a34-968c-8fe29675cb2a\",\"type\":\"LinearAxis\"}],\"plot_height\":300,\"plot_width\":300,\"renderers\":[{\"id\":\"b55e17cf-57ba-44d3-90d8-ecfe422a16e1\",\"type\":\"LinearAxis\"},{\"id\":\"2cc30277-5a52-4993-8d28-4c7075f7e6fb\",\"type\":\"Grid\"},{\"id\":\"8daf200a-1897-4a34-968c-8fe29675cb2a\",\"type\":\"LinearAxis\"},{\"id\":\"0852f72d-33db-4708-bfec-01aa9a67d058\",\"type\":\"Grid\"},{\"id\":\"6a3f67d2-6fc7-4527-902d-2fffd4600bb3\",\"type\":\"GlyphRenderer\"}],\"title\":{\"id\":\"16d70517-9106-4a39-8086-38d495c0c285\",\"type\":\"Title\"},\"toolbar\":{\"id\":\"581f6bef-30dc-49ca-a3f4-e6de47ea3512\",\"type\":\"Toolbar\"},\"toolbar_location\":null,\"x_range\":{\"id\":\"ee93b192-02f5-4924-9b73-d4960c6c6a54\",\"type\":\"Range1d\"},\"x_scale\":{\"id\":\"2eda2d0d-1ccf-4fed-893b-c85cdbeab852\",\"type\":\"LinearScale\"},\"y_range\":{\"id\":\"e3b7f491-cc74-47db-8c28-879d3c1d9813\",\"type\":\"Range1d\"},\"y_scale\":{\"id\":\"3f84a400-00c3-4bd6-808b-46f8001d5a7f\",\"type\":\"LinearScale\"}},\"id\":\"f5561405-495f-4f75-a846-52d0161115ff\",\"subtype\":\"Figure\",\"type\":\"Plot\"},{\"attributes\":{\"toolbar\":{\"id\":\"6c019345-0316-4303-97c7-e68dad560189\",\"type\":\"ProxyToolbar\"},\"toolbar_location\":\"above\"},\"id\":\"572b7b55-4d1d-4636-b802-4bed75f373c7\",\"type\":\"ToolbarBox\"},{\"attributes\":{\"dimension\":1,\"plot\":{\"id\":\"0f0b91fc-2db7-4bf4-8c98-f0af51f41683\",\"subtype\":\"Figure\",\"type\":\"Plot\"},\"ticker\":{\"id\":\"44d5c179-3b49-4794-a502-14e0c22b4ee5\",\"type\":\"BasicTicker\"}},\"id\":\"ff1c5695-6c36-4d29-8f60-9e74f77bf41e\",\"type\":\"Grid\"},{\"attributes\":{\"callback\":null,\"data\":{\"left\":{\"__ndarray__\":\"fRSuR+F6lD99FK5H4XqkP7wehetRuK4/fRSuR+F6tD+cmZmZmZm5P7wehetRuL4/7VG4HoXrwT99FK5H4XrEPw3Xo3A9Csc/nJmZmZmZyT8sXI/C9SjMP7wehetRuM4/pnA9Ctej0D/tUbgehevRPzUzMzMzM9M/fRSuR+F61D/F9Shcj8LVPw3Xo3A9Ctc/VLgehetR2D+cmZmZmZnZP+R6FK5H4do/LFyPwvUo3D90PQrXo3DdP7wehetRuN4/AgAAAAAA4D+mcD0K16PgP0nhehSuR+E/7VG4HoXr4T+RwvUoXI/iPzUzMzMzM+M/2aNwPQrX4z99FK5H4XrkPyGF61G4HuU/xfUoXI/C5T9pZmZmZmbmPw3Xo3A9Cuc/sUfhehSu5z9UuB6F61HoP/goXI/C9eg/nJmZmZmZ6T9ACtejcD3qP+R6FK5H4eo/iOtRuB6F6z8sXI/C9SjsP9DMzMzMzOw/dD0K16Nw7T8YrkfhehTuP7wehetRuO4/X4/C9Shc7z8CAAAAAADwPw==\",\"dtype\":\"float64\",\"shape\":[50]},\"right\":{\"__ndarray__\":\"RcNYYM20kDp9FK5H4XqUP30UrkfheqQ/vB6F61G4rj99FK5H4Xq0P5yZmZmZmbk/vB6F61G4vj/tUbgehevBP30UrkfhesQ/DdejcD0Kxz+cmZmZmZnJPyxcj8L1KMw/vB6F61G4zj+mcD0K16PQP+1RuB6F69E/NTMzMzMz0z99FK5H4XrUP8X1KFyPwtU/DdejcD0K1z9UuB6F61HYP5yZmZmZmdk/5HoUrkfh2j8sXI/C9SjcP3Q9CtejcN0/vB6F61G43j8CAAAAAADgP6ZwPQrXo+A/SeF6FK5H4T/tUbgehevhP5HC9Shcj+I/NTMzMzMz4z/Zo3A9CtfjP30UrkfheuQ/IYXrUbge5T/F9Shcj8LlP2lmZmZmZuY/DdejcD0K5z+xR+F6FK7nP1S4HoXrUeg/+Chcj8L16D+cmZmZmZnpP0AK16NwPeo/5HoUrkfh6j+I61G4HoXrPyxcj8L1KOw/0MzMzMzM7D90PQrXo3DtPxiuR+F6FO4/vB6F61G47j9fj8L1KFzvPw==\",\"dtype\":\"float64\",\"shape\":[50]},\"top\":{\"__ndarray__\":\"AAAAAAAA8D/B7AGzB8y+PyevobyG8ro/wuwBswfMnj/5M+HPhD+jP/Yz4c+EP6M/yewBswfMjj+97AGzB8yeP45xQcYFGac//TPhz4Q/oz+97AGzB8yOP73sAbMHzH4/jnFBxgUZlz+gcUHGBRmnP73sAbMHzJ4/vewBswfMfj8AAAAAAAAAAL3sAbMHzH4/1ewBswfMfj+97AGzB8yePwAAAAAAAAAAjnFBxgUZlz8mr6G8hvKqP73sAbMHzH4/vewBswfMjj+97AGzB8yOP+3sAbMHzH4/vewBswfMjj+97AGzB8yOP45xQcYFGZc/vewBswfMjj+97AGzB8yOP73sAbMHzH4/vewBswfMfj8AAAAAAAAAAAAAAAAAAAAAvewBswfMfj/t7AGzB8yOPwAAAAAAAAAAvewBswfMfj+97AGzB8yOPwAAAAAAAAAAvewBswfMjj+OcUHGBRmXP73sAbMHzH4/vewBswfMjj8mr6G8hvKqP73sAbMHzJ4/7ewBswfMjj87Q3kN5TXEPw==\",\"dtype\":\"float64\",\"shape\":[50]}},\"selected\":{\"id\":\"1f7d5c31-842b-4668-b383-c9a8c9b2550d\",\"type\":\"Selection\"},\"selection_policy\":{\"id\":\"1f6a2253-1f1e-4d99-b5cb-21091f1bee90\",\"type\":\"UnionRenderers\"}},\"id\":\"08857b72-62a4-489c-bfab-e3a76c01df90\",\"type\":\"ColumnDataSource\"},{\"attributes\":{\"children\":[{\"id\":\"572b7b55-4d1d-4636-b802-4bed75f373c7\",\"type\":\"ToolbarBox\"},{\"id\":\"d10d3237-c0ea-4261-9200-3c2bead6f442\",\"type\":\"Column\"}]},\"id\":\"07144a4e-a325-4d33-a2a5-5ff2c7c16b0d\",\"type\":\"Column\"},{\"attributes\":{\"formatter\":{\"id\":\"04643751-5435-42b7-a602-f4f38b7373e6\",\"type\":\"BasicTickFormatter\"},\"plot\":{\"id\":\"0f0b91fc-2db7-4bf4-8c98-f0af51f41683\",\"subtype\":\"Figure\",\"type\":\"Plot\"},\"ticker\":{\"id\":\"44d5c179-3b49-4794-a502-14e0c22b4ee5\",\"type\":\"BasicTicker\"}},\"id\":\"24aa1963-306a-48ed-accd-0ca69a4467d9\",\"type\":\"LinearAxis\"},{\"attributes\":{\"bottom\":{\"value\":0},\"fill_alpha\":{\"value\":0.1},\"fill_color\":{\"value\":\"#1f77b4\"},\"left\":{\"field\":\"left\"},\"line_alpha\":{\"value\":0.1},\"line_color\":{\"value\":\"#1f77b4\"},\"right\":{\"field\":\"right\"},\"top\":{\"field\":\"top\"}},\"id\":\"c2461bff-85c0-442b-b0ae-90a50f244be4\",\"type\":\"Quad\"},{\"attributes\":{},\"id\":\"ad268861-4d4f-4d36-ac4f-19c04eda2e81\",\"type\":\"SaveTool\"},{\"attributes\":{\"bottom\":{\"value\":0},\"fill_color\":{\"value\":\"#036564\"},\"left\":{\"field\":\"left\"},\"line_color\":{\"value\":\"#033649\"},\"right\":{\"field\":\"right\"},\"top\":{\"field\":\"top\"}},\"id\":\"23bcabde-82e4-4435-aa81-18c3d87878eb\",\"type\":\"Quad\"},{\"attributes\":{},\"id\":\"1afe4b35-8d1b-47f1-8398-a8f2b83e15de\",\"type\":\"ZoomInTool\"},{\"attributes\":{\"source\":{\"id\":\"08857b72-62a4-489c-bfab-e3a76c01df90\",\"type\":\"ColumnDataSource\"}},\"id\":\"b64d98ab-0a1b-4313-b642-aab56b31c5ba\",\"type\":\"CDSView\"},{\"attributes\":{\"plot\":null,\"text\":\"Distribution of q Values from KS Test - MIC Main Effect\"},\"id\":\"16d70517-9106-4a39-8086-38d495c0c285\",\"type\":\"Title\"},{\"attributes\":{\"callback\":null},\"id\":\"ee93b192-02f5-4924-9b73-d4960c6c6a54\",\"type\":\"Range1d\"},{\"attributes\":{\"active_drag\":\"auto\",\"active_inspect\":\"auto\",\"active_multi\":null,\"active_scroll\":\"auto\",\"active_tap\":\"auto\",\"tools\":[{\"id\":\"16db4227-8d92-43e2-9b45-b720aa2496a2\",\"type\":\"SaveTool\"},{\"id\":\"124482de-c9cb-4316-9418-a926f98f221a\",\"type\":\"ZoomInTool\"}]},\"id\":\"581f6bef-30dc-49ca-a3f4-e6de47ea3512\",\"type\":\"Toolbar\"},{\"attributes\":{\"children\":[{\"id\":\"e2ccdb75-2ae8-4550-8ab8-3eecec2d8bfe\",\"type\":\"Row\"}]},\"id\":\"d10d3237-c0ea-4261-9200-3c2bead6f442\",\"type\":\"Column\"},{\"attributes\":{},\"id\":\"2eda2d0d-1ccf-4fed-893b-c85cdbeab852\",\"type\":\"LinearScale\"},{\"attributes\":{\"callback\":null},\"id\":\"e3b7f491-cc74-47db-8c28-879d3c1d9813\",\"type\":\"Range1d\"},{\"attributes\":{},\"id\":\"3f84a400-00c3-4bd6-808b-46f8001d5a7f\",\"type\":\"LinearScale\"},{\"attributes\":{\"plot\":{\"id\":\"f5561405-495f-4f75-a846-52d0161115ff\",\"subtype\":\"Figure\",\"type\":\"Plot\"},\"ticker\":{\"id\":\"7518d38d-1e2f-45a7-bf98-e2001dde5ee4\",\"type\":\"BasicTicker\"}},\"id\":\"2cc30277-5a52-4993-8d28-4c7075f7e6fb\",\"type\":\"Grid\"},{\"attributes\":{\"formatter\":{\"id\":\"8f36cec5-0d84-4197-808a-3f6ff3d8c2d8\",\"type\":\"BasicTickFormatter\"},\"plot\":{\"id\":\"f5561405-495f-4f75-a846-52d0161115ff\",\"subtype\":\"Figure\",\"type\":\"Plot\"},\"ticker\":{\"id\":\"7518d38d-1e2f-45a7-bf98-e2001dde5ee4\",\"type\":\"BasicTicker\"}},\"id\":\"b55e17cf-57ba-44d3-90d8-ecfe422a16e1\",\"type\":\"LinearAxis\"},{\"attributes\":{\"below\":[{\"id\":\"85e10a44-e7bb-4d2a-a264-44b0a8a61ca7\",\"type\":\"LinearAxis\"}],\"left\":[{\"id\":\"24aa1963-306a-48ed-accd-0ca69a4467d9\",\"type\":\"LinearAxis\"}],\"plot_height\":300,\"plot_width\":300,\"renderers\":[{\"id\":\"85e10a44-e7bb-4d2a-a264-44b0a8a61ca7\",\"type\":\"LinearAxis\"},{\"id\":\"c06def2c-3f8d-46e2-8733-1787ca7f236f\",\"type\":\"Grid\"},{\"id\":\"24aa1963-306a-48ed-accd-0ca69a4467d9\",\"type\":\"LinearAxis\"},{\"id\":\"ff1c5695-6c36-4d29-8f60-9e74f77bf41e\",\"type\":\"Grid\"},{\"id\":\"2e1c9fd9-c866-4a99-a014-e907bf4dbef0\",\"type\":\"GlyphRenderer\"}],\"title\":{\"id\":\"fbe8c3bc-40e8-4556-9f3c-fd33a1a0f52f\",\"type\":\"Title\"},\"toolbar\":{\"id\":\"7e1d879a-81e2-408f-9a48-fd71dbca9499\",\"type\":\"Toolbar\"},\"toolbar_location\":null,\"x_range\":{\"id\":\"591bad41-03be-4fbd-950a-7a4c1a2ce4f9\",\"type\":\"Range1d\"},\"x_scale\":{\"id\":\"0501f392-e879-42b3-a5ab-0ddd610f2117\",\"type\":\"LinearScale\"},\"y_range\":{\"id\":\"6f7e3765-80be-4c13-a1c3-af68deeb5d13\",\"type\":\"Range1d\"},\"y_scale\":{\"id\":\"073c73ec-a9fd-4697-a494-df8133b151e8\",\"type\":\"LinearScale\"}},\"id\":\"0f0b91fc-2db7-4bf4-8c98-f0af51f41683\",\"subtype\":\"Figure\",\"type\":\"Plot\"},{\"attributes\":{},\"id\":\"abc0a2ad-2690-4d9e-9bb5-b005ccbce761\",\"type\":\"BasicTickFormatter\"},{\"attributes\":{},\"id\":\"7518d38d-1e2f-45a7-bf98-e2001dde5ee4\",\"type\":\"BasicTicker\"},{\"attributes\":{\"formatter\":{\"id\":\"c5e2b8cd-ebfb-4704-b20a-657ef919464a\",\"type\":\"BasicTickFormatter\"},\"plot\":{\"id\":\"f5561405-495f-4f75-a846-52d0161115ff\",\"subtype\":\"Figure\",\"type\":\"Plot\"},\"ticker\":{\"id\":\"96f6e832-5543-4fa0-8164-b90864df367a\",\"type\":\"BasicTicker\"}},\"id\":\"8daf200a-1897-4a34-968c-8fe29675cb2a\",\"type\":\"LinearAxis\"},{\"attributes\":{},\"id\":\"96f6e832-5543-4fa0-8164-b90864df367a\",\"type\":\"BasicTicker\"},{\"attributes\":{\"dimension\":1,\"plot\":{\"id\":\"f5561405-495f-4f75-a846-52d0161115ff\",\"subtype\":\"Figure\",\"type\":\"Plot\"},\"ticker\":{\"id\":\"96f6e832-5543-4fa0-8164-b90864df367a\",\"type\":\"BasicTicker\"}},\"id\":\"0852f72d-33db-4708-bfec-01aa9a67d058\",\"type\":\"Grid\"},{\"attributes\":{\"callback\":null,\"data\":{\"left\":{\"__ndarray__\":\"exSuR+F6lD97FK5H4XqkP7gehetRuK4/exSuR+F6tD+amZmZmZm5P7gehetRuL4/7FG4HoXrwT97FK5H4XrEPwrXo3A9Csc/mpmZmZmZyT8pXI/C9SjMP7gehetRuM4/pHA9Ctej0D/sUbgehevRPzMzMzMzM9M/exSuR+F61D/D9Shcj8LVPwrXo3A9Ctc/UrgehetR2D+amZmZmZnZP+F6FK5H4do/KVyPwvUo3D9xPQrXo3DdP7gehetRuN4/AAAAAAAA4D+kcD0K16PgP0jhehSuR+E/7FG4HoXr4T+PwvUoXI/iPzMzMzMzM+M/16NwPQrX4z97FK5H4XrkPx+F61G4HuU/w/UoXI/C5T9nZmZmZmbmPwrXo3A9Cuc/rkfhehSu5z9SuB6F61HoP/YoXI/C9eg/mpmZmZmZ6T8+CtejcD3qP+F6FK5H4eo/hetRuB6F6z8pXI/C9SjsP83MzMzMzOw/cT0K16Nw7T8VrkfhehTuP7gehetRuO4/XI/C9Shc7z8AAAAAAADwPw==\",\"dtype\":\"float64\",\"shape\":[50]},\"right\":{\"__ndarray__\":\"wAqSTzbpEjt7FK5H4XqUP3sUrkfheqQ/uB6F61G4rj97FK5H4Xq0P5qZmZmZmbk/uB6F61G4vj/sUbgehevBP3sUrkfhesQ/CtejcD0Kxz+amZmZmZnJPylcj8L1KMw/uB6F61G4zj+kcD0K16PQP+xRuB6F69E/MzMzMzMz0z97FK5H4XrUP8P1KFyPwtU/CtejcD0K1z9SuB6F61HYP5qZmZmZmdk/4XoUrkfh2j8pXI/C9SjcP3E9CtejcN0/uB6F61G43j8AAAAAAADgP6RwPQrXo+A/SOF6FK5H4T/sUbgehevhP4/C9Shcj+I/MzMzMzMz4z/Xo3A9CtfjP3sUrkfheuQ/H4XrUbge5T/D9Shcj8LlP2dmZmZmZuY/CtejcD0K5z+uR+F6FK7nP1K4HoXrUeg/9ihcj8L16D+amZmZmZnpPz4K16NwPeo/4XoUrkfh6j+F61G4HoXrPylcj8L1KOw/zczMzMzM7D9xPQrXo3DtPxWuR+F6FO4/uB6F61G47j9cj8L1KFzvPw==\",\"dtype\":\"float64\",\"shape\":[50]},\"top\":{\"__ndarray__\":\"AAAAAAAA8D8qSuMjE+jNP8AQK0rjI7M/1nJws1+ItT/WcnCzX4i1P6qu5eBmv7A/uhArSuMjkz/CECtK4yOjPySZQO/UtZw/uhArSuMjoz8AAAAAAAAAACSZQO/UtZw/6dS1HNzspz8YmUDv1LWcP/zUtRzc7Kc/uhArSuMjkz+6ECtK4yODPwAAAAAAAAAAGJlA79S1nD8YmUDv1LWsP8kQK0rjI6M/uhArSuMjgz8AAAAAAAAAAAAAAAAAAAAAuhArSuMjgz+6ECtK4yODP7oQK0rjI6M/AAAAAAAAAADYECtK4yODP9FycLNfiLU/uhArSuMjgz+6ECtK4yOTP7oQK0rjI5M/uhArSuMjgz+6ECtK4yOTP9gQK0rjI5M/uhArSuMjoz+6ECtK4yOTP7oQK0rjI5M/uhArSuMjgz8AAAAAAAAAAAAAAAAAAAAAAAAAAAAAAAC6ECtK4yODP7oQK0rjI5M/AAAAAAAAAAC6ECtK4yODP9gQK0rjI5M/AAAAAAAAAAD1hVhRGh/ZPw==\",\"dtype\":\"float64\",\"shape\":[50]}},\"selected\":{\"id\":\"1495eedd-1ef8-4602-b5a4-9db91fcf5fb1\",\"type\":\"Selection\"},\"selection_policy\":{\"id\":\"cbe09de1-d76d-42e1-a6b6-08e87aa4a32a\",\"type\":\"UnionRenderers\"}},\"id\":\"0aa4c0f2-6e30-459f-8e3b-89f775fd0f95\",\"type\":\"ColumnDataSource\"},{\"attributes\":{\"bottom\":{\"value\":0},\"fill_alpha\":{\"value\":0.1},\"fill_color\":{\"value\":\"#1f77b4\"},\"left\":{\"field\":\"left\"},\"line_alpha\":{\"value\":0.1},\"line_color\":{\"value\":\"#1f77b4\"},\"right\":{\"field\":\"right\"},\"top\":{\"field\":\"top\"}},\"id\":\"f8a868aa-81b8-45f1-b2f2-4ad27d382d75\",\"type\":\"Quad\"},{\"attributes\":{\"data_source\":{\"id\":\"08857b72-62a4-489c-bfab-e3a76c01df90\",\"type\":\"ColumnDataSource\"},\"glyph\":{\"id\":\"23bcabde-82e4-4435-aa81-18c3d87878eb\",\"type\":\"Quad\"},\"hover_glyph\":null,\"muted_glyph\":null,\"nonselection_glyph\":{\"id\":\"c2461bff-85c0-442b-b0ae-90a50f244be4\",\"type\":\"Quad\"},\"selection_glyph\":null,\"view\":{\"id\":\"b64d98ab-0a1b-4313-b642-aab56b31c5ba\",\"type\":\"CDSView\"}},\"id\":\"2e1c9fd9-c866-4a99-a014-e907bf4dbef0\",\"type\":\"GlyphRenderer\"},{\"attributes\":{},\"id\":\"16db4227-8d92-43e2-9b45-b720aa2496a2\",\"type\":\"SaveTool\"},{\"attributes\":{\"plot\":null,\"text\":\"Distribution of p Values from KS Test - MIC Main Effect\"},\"id\":\"fbe8c3bc-40e8-4556-9f3c-fd33a1a0f52f\",\"type\":\"Title\"},{\"attributes\":{\"bottom\":{\"value\":0},\"fill_color\":{\"value\":\"#036564\"},\"left\":{\"field\":\"left\"},\"line_color\":{\"value\":\"#033649\"},\"right\":{\"field\":\"right\"},\"top\":{\"field\":\"top\"}},\"id\":\"8414d4c6-cee5-4219-8e7b-4bc9c1166c1e\",\"type\":\"Quad\"},{\"attributes\":{\"callback\":null},\"id\":\"591bad41-03be-4fbd-950a-7a4c1a2ce4f9\",\"type\":\"Range1d\"},{\"attributes\":{},\"id\":\"124482de-c9cb-4316-9418-a926f98f221a\",\"type\":\"ZoomInTool\"},{\"attributes\":{},\"id\":\"04643751-5435-42b7-a602-f4f38b7373e6\",\"type\":\"BasicTickFormatter\"},{\"attributes\":{\"active_drag\":\"auto\",\"active_inspect\":\"auto\",\"active_multi\":null,\"active_scroll\":\"auto\",\"active_tap\":\"auto\",\"tools\":[{\"id\":\"ad268861-4d4f-4d36-ac4f-19c04eda2e81\",\"type\":\"SaveTool\"},{\"id\":\"1afe4b35-8d1b-47f1-8398-a8f2b83e15de\",\"type\":\"ZoomInTool\"}]},\"id\":\"7e1d879a-81e2-408f-9a48-fd71dbca9499\",\"type\":\"Toolbar\"},{\"attributes\":{\"data_source\":{\"id\":\"0aa4c0f2-6e30-459f-8e3b-89f775fd0f95\",\"type\":\"ColumnDataSource\"},\"glyph\":{\"id\":\"8414d4c6-cee5-4219-8e7b-4bc9c1166c1e\",\"type\":\"Quad\"},\"hover_glyph\":null,\"muted_glyph\":null,\"nonselection_glyph\":{\"id\":\"f8a868aa-81b8-45f1-b2f2-4ad27d382d75\",\"type\":\"Quad\"},\"selection_glyph\":null,\"view\":{\"id\":\"0e1120a4-38ac-4885-9d68-32544c2ff373\",\"type\":\"CDSView\"}},\"id\":\"6a3f67d2-6fc7-4527-902d-2fffd4600bb3\",\"type\":\"GlyphRenderer\"},{\"attributes\":{\"children\":[{\"id\":\"0f0b91fc-2db7-4bf4-8c98-f0af51f41683\",\"subtype\":\"Figure\",\"type\":\"Plot\"},{\"id\":\"f5561405-495f-4f75-a846-52d0161115ff\",\"subtype\":\"Figure\",\"type\":\"Plot\"}]},\"id\":\"e2ccdb75-2ae8-4550-8ab8-3eecec2d8bfe\",\"type\":\"Row\"},{\"attributes\":{\"source\":{\"id\":\"0aa4c0f2-6e30-459f-8e3b-89f775fd0f95\",\"type\":\"ColumnDataSource\"}},\"id\":\"0e1120a4-38ac-4885-9d68-32544c2ff373\",\"type\":\"CDSView\"},{\"attributes\":{},\"id\":\"0501f392-e879-42b3-a5ab-0ddd610f2117\",\"type\":\"LinearScale\"},{\"attributes\":{},\"id\":\"1f7d5c31-842b-4668-b383-c9a8c9b2550d\",\"type\":\"Selection\"},{\"attributes\":{\"callback\":null},\"id\":\"6f7e3765-80be-4c13-a1c3-af68deeb5d13\",\"type\":\"Range1d\"},{\"attributes\":{},\"id\":\"1f6a2253-1f1e-4d99-b5cb-21091f1bee90\",\"type\":\"UnionRenderers\"},{\"attributes\":{},\"id\":\"c5e2b8cd-ebfb-4704-b20a-657ef919464a\",\"type\":\"BasicTickFormatter\"},{\"attributes\":{},\"id\":\"8f36cec5-0d84-4197-808a-3f6ff3d8c2d8\",\"type\":\"BasicTickFormatter\"},{\"attributes\":{},\"id\":\"073c73ec-a9fd-4697-a494-df8133b151e8\",\"type\":\"LinearScale\"},{\"attributes\":{},\"id\":\"1495eedd-1ef8-4602-b5a4-9db91fcf5fb1\",\"type\":\"Selection\"},{\"attributes\":{},\"id\":\"44d5c179-3b49-4794-a502-14e0c22b4ee5\",\"type\":\"BasicTicker\"},{\"attributes\":{\"tools\":[{\"id\":\"ad268861-4d4f-4d36-ac4f-19c04eda2e81\",\"type\":\"SaveTool\"},{\"id\":\"1afe4b35-8d1b-47f1-8398-a8f2b83e15de\",\"type\":\"ZoomInTool\"},{\"id\":\"16db4227-8d92-43e2-9b45-b720aa2496a2\",\"type\":\"SaveTool\"},{\"id\":\"124482de-c9cb-4316-9418-a926f98f221a\",\"type\":\"ZoomInTool\"}]},\"id\":\"6c019345-0316-4303-97c7-e68dad560189\",\"type\":\"ProxyToolbar\"},{\"attributes\":{\"plot\":{\"id\":\"0f0b91fc-2db7-4bf4-8c98-f0af51f41683\",\"subtype\":\"Figure\",\"type\":\"Plot\"},\"ticker\":{\"id\":\"ea6fc075-ac1e-42cb-9f82-0e83903cc24c\",\"type\":\"BasicTicker\"}},\"id\":\"c06def2c-3f8d-46e2-8733-1787ca7f236f\",\"type\":\"Grid\"},{\"attributes\":{},\"id\":\"cbe09de1-d76d-42e1-a6b6-08e87aa4a32a\",\"type\":\"UnionRenderers\"},{\"attributes\":{\"formatter\":{\"id\":\"abc0a2ad-2690-4d9e-9bb5-b005ccbce761\",\"type\":\"BasicTickFormatter\"},\"plot\":{\"id\":\"0f0b91fc-2db7-4bf4-8c98-f0af51f41683\",\"subtype\":\"Figure\",\"type\":\"Plot\"},\"ticker\":{\"id\":\"ea6fc075-ac1e-42cb-9f82-0e83903cc24c\",\"type\":\"BasicTicker\"}},\"id\":\"85e10a44-e7bb-4d2a-a264-44b0a8a61ca7\",\"type\":\"LinearAxis\"}],\"root_ids\":[\"07144a4e-a325-4d33-a2a5-5ff2c7c16b0d\"]},\"title\":\"Bokeh Application\",\"version\":\"0.13.0\"}};\n",
       "  var render_items = [{\"docid\":\"8a62ed7d-65d6-4da8-ab17-e7d463f9bbd1\",\"roots\":{\"07144a4e-a325-4d33-a2a5-5ff2c7c16b0d\":\"fa367ce7-d190-4e36-9356-0e6325537b40\"}}];\n",
       "  root.Bokeh.embed.embed_items_notebook(docs_json, render_items);\n",
       "\n",
       "  }\n",
       "  if (root.Bokeh !== undefined) {\n",
       "    embed_document(root);\n",
       "  } else {\n",
       "    var attempts = 0;\n",
       "    var timer = setInterval(function(root) {\n",
       "      if (root.Bokeh !== undefined) {\n",
       "        embed_document(root);\n",
       "        clearInterval(timer);\n",
       "      }\n",
       "      attempts++;\n",
       "      if (attempts > 100) {\n",
       "        console.log(\"Bokeh: ERROR: Unable to run BokehJS code because BokehJS library is missing\")\n",
       "        clearInterval(timer);\n",
       "      }\n",
       "    }, 10, root)\n",
       "  }\n",
       "})(window);"
      ],
      "application/vnd.bokehjs_exec.v0+json": ""
     },
     "metadata": {
      "application/vnd.bokehjs_exec.v0+json": {
       "id": "07144a4e-a325-4d33-a2a5-5ff2c7c16b0d"
      }
     },
     "output_type": "display_data"
    }
   ],
   "source": [
    "p1 = figure(title=\"Distribution of p Values from KS Test - MIC Main Effect\", \n",
    "            tools = [\"save\",\"zoom_in\"], x_range =(0,1), y_range=(0,1))\n",
    "\n",
    "hist, edges = np.histogram(KS_MIC_MainEffect_UpReg[\"p\"], density=True, bins = 50)\n",
    "\n",
    "p1.quad(top = hist/max(hist),\n",
    "        bottom = 0,\n",
    "        left = edges[1:],\n",
    "        right = edges[:-1],\n",
    "        fill_color=\"#036564\", \n",
    "        line_color=\"#033649\")\n",
    "\n",
    "\n",
    "p2 = figure(title=\"Distribution of q Values from KS Test - MIC Main Effect\", \n",
    "            tools = [\"save\",\"zoom_in\"], x_range =(0,1), y_range=(0,1))\n",
    "\n",
    "hist2, edges2 = np.histogram(KS_allKinasesInMIC_Panda[\"q_BH\"], density=True, bins = 50)\n",
    "\n",
    "p2.quad(top = hist2/max(hist2),\n",
    "       bottom = 0,\n",
    "       left = edges2[1:],\n",
    "       right = edges2[:-1],\n",
    "       fill_color=\"#036564\", \n",
    "       line_color=\"#033649\")\n",
    "\n",
    "\n",
    "show(gridplot(p1,p2, ncols=2, plot_width=300, plot_height=300))\n",
    "KS_allKinasesInMIC_Panda.to_csv(\"KolmogoraovSmirnovTestonKinases_MIC Main Effect.csv\")\n",
    "\n",
    "#KS_allKinasesInMIC_Panda[\"q_BH\"] = stats.p_adjust(KS_allKinasesInMIC_Panda[\"\"])\n"
   ]
  },
  {
   "cell_type": "code",
   "execution_count": 156,
   "metadata": {},
   "outputs": [],
   "source": [
    "# Changed Group Annotations - Rerun enrichment analysis\n",
    "\n",
    "def performEnrichment_newGroups(clusterName):\n",
    "    kinases = networkin_out[\"Kinase/Phosphatase/Phospho-binding domain\"].unique()\n",
    "    KS_values = {}\n",
    "    for kinase in kinases:\n",
    "        # Subset all kinase assignments\n",
    "        networkin_out_filteredForKinase = networkin_out.loc[networkin_out[\"Kinase/Phosphatase/Phospho-binding domain\"] == kinase]\n",
    "        # Subset assignments in the given group\n",
    "        group_IDS = groupAnnotations2.loc[groupAnnotations2[clusterName]==1]\n",
    "        # Subset all kinase assignments that are in group\n",
    "        networkin_out_FilteredKinase_byGroup = networkin_out_filteredForKinase[networkin_out_filteredForKinase[\"EnsemblID\"].isin(group_IDS[\"ENSEMBL74ID\"])]\n",
    "        # Scores for that kinase in all assignments\n",
    "        scores_All = networkin_out_filteredForKinase[\"NetworKIN score\"]\n",
    "        # Scores for that kinase in MIC Main Effect\n",
    "        scores_Group = networkin_out_FilteredKinase_byGroup[\"NetworKIN score\"]\n",
    "        # Perform KS Test if has values\n",
    "        if len(scores_All)> 0 and len(scores_Group) > 0:\n",
    "            KS_values[kinase] = [stats.ks_2samp(scores_All, scores_Group)[1], np.mean(scores_Group) - np.mean(scores_All)]\n",
    "    \n",
    "    \n",
    "    KS_return = pd.DataFrame.from_dict(KS_values, orient='index')\n",
    "    KS_return.columns = [\"p\",\"Delta Average Score\"]\n",
    "    \n",
    "    reject, pvals_corrected, alphacSidak, alphacBonf = multipletests(KS_return[\"p\"], alpha=0.05, method='fdr_bh')\n",
    "    KS_return[\"q_BH\"] = pvals_corrected\n",
    "    KS_return[\"Reject\"] = reject\n",
    "   \n",
    "    return KS_return\n",
    "\n",
    "\n",
    "\n"
   ]
  },
  {
   "cell_type": "code",
   "execution_count": 157,
   "metadata": {},
   "outputs": [],
   "source": [
    "KS_MIC_MainEffect_VCVECq_UpReg = performEnrichment_newGroups(\"HasKinase_MIC_MainEffectP<0.05_VCvsVECQ<0.05_((VEC+REC)-(VC+RC))>0\")"
   ]
  },
  {
   "cell_type": "code",
   "execution_count": 161,
   "metadata": {},
   "outputs": [],
   "source": [
    "KS_MIC_MainEffect_VCVECq_UpReg.to_csv(\"KS_MIC_MainEffect_VCVECq_UpReg.csv\")"
   ]
  },
  {
   "cell_type": "code",
   "execution_count": 158,
   "metadata": {},
   "outputs": [],
   "source": [
    "KS_MIC_MainEffect_VCVECq_DownReg = performEnrichment_newGroups(\"HasKinase_MIC_MainEffectP<0.05_VCvsVECQ<0.05_((VEC+REC)-(VC+RC))<0\")"
   ]
  },
  {
   "cell_type": "code",
   "execution_count": 162,
   "metadata": {},
   "outputs": [],
   "source": [
    "KS_MIC_MainEffect_VCVECq_DownReg.to_csv(\"KS_MIC_MainEffect_VCVECq_DownReg.csv\")"
   ]
  },
  {
   "cell_type": "code",
   "execution_count": 159,
   "metadata": {},
   "outputs": [],
   "source": [
    "KS_Interaction_VCVECq_UpReg = performEnrichment_newGroups(\"HasKinase_InteractionP<0.05_VCvsVECQ<0.05_((VEC+REC)-(VC+RC))>0\")"
   ]
  },
  {
   "cell_type": "code",
   "execution_count": 163,
   "metadata": {},
   "outputs": [],
   "source": [
    "KS_Interaction_VCVECq_UpReg.to_csv(\"KS_Interaction_VCVECq_UpReg.csv\")"
   ]
  },
  {
   "cell_type": "code",
   "execution_count": 160,
   "metadata": {},
   "outputs": [],
   "source": [
    "KS_Interaction_VCVECq_DownReg = performEnrichment_newGroups(\"HasKinase_InteractionP<0.05_VCvsVECQ<0.05_((VEC+REC)-(VC+RC))<0\")"
   ]
  },
  {
   "cell_type": "code",
   "execution_count": 164,
   "metadata": {},
   "outputs": [],
   "source": [
    "KS_Interaction_VCVECq_DownReg.to_csv(\"KS_Interaction_VCVECq_DownReg.csv\")"
   ]
  },
  {
   "cell_type": "code",
   "execution_count": 168,
   "metadata": {},
   "outputs": [],
   "source": [
    "KS_RAP_RCvsVCMODq_UpReg = performEnrichment_newGroups(\"HasKinase_MICMainEffectQ<0.05_RCvsVCMODq<0.05_RVAvg>0\")"
   ]
  },
  {
   "cell_type": "code",
   "execution_count": 170,
   "metadata": {},
   "outputs": [],
   "source": [
    "KS_RAP_RCvsVCMODq_UpReg.to_csv(\"KS_MIC_RCvsVCMODq_UpReg.csv\")"
   ]
  },
  {
   "cell_type": "code",
   "execution_count": 171,
   "metadata": {},
   "outputs": [],
   "source": [
    "KS_RAP_RCvsVCMODq_DownReg = performEnrichment_newGroups(\"HasKinase_MICMainEffectQ<0.05_RCvsVCMODq<0.05_RVAvg<0\")"
   ]
  },
  {
   "cell_type": "code",
   "execution_count": 172,
   "metadata": {},
   "outputs": [],
   "source": [
    "KS_RAP_RCvsVCMODq_DownReg.to_csv(\"KS_MIC_RCvsVCMODq_DownReg.csv\")"
   ]
  },
  {
   "cell_type": "code",
   "execution_count": 174,
   "metadata": {},
   "outputs": [],
   "source": [
    "KS_RAP_RCvsVCPERq_UpReg = performEnrichment_newGroups(\"HasKinase_MICMainEffectQ<0.05_RCvsVCPERMq<0.05_RVAvg>0\")"
   ]
  },
  {
   "cell_type": "code",
   "execution_count": 178,
   "metadata": {},
   "outputs": [],
   "source": [
    "KS_RAP_RCvsVCPERq_UpReg.to_csv(\"KS_MIC_RCvsVCPERMq_UpReg.csv\")"
   ]
  },
  {
   "cell_type": "code",
   "execution_count": 176,
   "metadata": {},
   "outputs": [],
   "source": [
    "KS_RAP_RCvsVCPERq_DownReg = performEnrichment_newGroups(\"HasKinase_MICMainEffectQ<0.05_RCvsVCPERMq<0.05_RVAvg<0\")"
   ]
  },
  {
   "cell_type": "code",
   "execution_count": 179,
   "metadata": {},
   "outputs": [],
   "source": [
    "KS_RAP_RCvsVCPERq_DownReg.to_csv(\"KS_MIC_RCvsVCPERMq_DownReg.csv\")"
   ]
  }
 ],
 "metadata": {
  "kernelspec": {
   "display_name": "Python 3",
   "language": "python",
   "name": "python3"
  },
  "language_info": {
   "codemirror_mode": {
    "name": "ipython",
    "version": 3
   },
   "file_extension": ".py",
   "mimetype": "text/x-python",
   "name": "python",
   "nbconvert_exporter": "python",
   "pygments_lexer": "ipython3",
   "version": "3.7.0"
  }
 },
 "nbformat": 4,
 "nbformat_minor": 2
}
